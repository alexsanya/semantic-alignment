{
 "cells": [
  {
   "cell_type": "markdown",
   "id": "d51587d7-9c6e-47d8-b7ed-dbd7498d51dd",
   "metadata": {},
   "source": [
    "# Semantic alignement with OpenAI text-embedding-3-small model"
   ]
  },
  {
   "cell_type": "markdown",
   "id": "251118c5-b170-45b0-9759-800976bd31e0",
   "metadata": {},
   "source": [
    "## Step 1 - Build a dataset of native edition chunks"
   ]
  },
  {
   "cell_type": "code",
   "execution_count": 86,
   "id": "9e90077b-b3f0-4e1d-bb79-c7dbc0058999",
   "metadata": {},
   "outputs": [],
   "source": [
    "import spacy\n",
    "nlp_ru = spacy.load(\"ru_core_news_lg\")\n",
    "def split_into_chunks(text: str, max_chars: int = 300) -> list:\n",
    "    doc = nlp_ru(text)\n",
    "    sentences = [sent.text.strip() for sent in doc.sents]\n",
    "\n",
    "    chunks = []\n",
    "    current_chunk = \"\"\n",
    "    for sent in sentences:\n",
    "        if len(current_chunk) + len(sent) <= max_chars:\n",
    "            current_chunk += (\" \" if current_chunk else \"\") + sent\n",
    "        else:\n",
    "            chunks.append(current_chunk)\n",
    "            current_chunk = sent\n",
    "    if current_chunk:\n",
    "        chunks.append(current_chunk)\n",
    "\n",
    "    return chunks"
   ]
  },
  {
   "cell_type": "code",
   "execution_count": 87,
   "id": "6a925a18-675c-418f-a7f4-4eeeb2f432e8",
   "metadata": {},
   "outputs": [],
   "source": [
    "from pathlib import Path\n",
    "def load_text_from_file(filepath: str) -> str:\n",
    "    return Path(filepath).read_text(encoding='utf-8')\n",
    "text_ru = load_text_from_file(\"output_text_rus.txt\")\n",
    "chunks_ru = split_into_chunks(text_ru.replace(\"\\n\", \" \"), max_chars=300)"
   ]
  },
  {
   "cell_type": "code",
   "execution_count": 88,
   "id": "40b7f7c2-395e-4241-9426-5c7ce5ae2e0a",
   "metadata": {},
   "outputs": [
    {
     "data": {
      "text/plain": [
       "['Много лет спустя, перед самым расстрелом, полковник Аурелиано Буэндия припомнит тот далекий день, когда отец повел его поглядеть на лед.',\n",
       " 'Макондо был тогда небольшим поселком из двадцати глинобитных, с камышовыми кровлями домишек, стоявших на берегу реки, которая несла свои прозрачные воды по ложу из белых, гладких и огромных, как доисторические яйца, валунов.',\n",
       " 'Мир был таким первозданным, что многие вещи не имели названия и на них просто тыкали пальцем. Каждый год в марте месяце лохмотное цыганское племя ставило свой шатер близ поселка, и под звонкое дребезжание бубнов и визготню свистулек пришельцы показывали жителям новейшие изобретения.']"
      ]
     },
     "metadata": {},
     "output_type": "display_data"
    }
   ],
   "source": [
    "from IPython.display import display\n",
    "display(chunks_ru[:3])"
   ]
  },
  {
   "cell_type": "code",
   "execution_count": 89,
   "id": "9ae0c15f-94f5-4e91-9af5-268a55e3a7a6",
   "metadata": {},
   "outputs": [
    {
     "data": {
      "text/plain": [
       "213"
      ]
     },
     "execution_count": 89,
     "metadata": {},
     "output_type": "execute_result"
    }
   ],
   "source": [
    "len(chunks_ru)"
   ]
  },
  {
   "cell_type": "markdown",
   "id": "4123761d-7895-49b8-96ae-0843233aca91",
   "metadata": {},
   "source": [
    "## Step 2 - Build a dataset of target edition chunks"
   ]
  },
  {
   "cell_type": "code",
   "execution_count": 90,
   "id": "2d92da82-a743-4537-8d88-f112b3453e5d",
   "metadata": {},
   "outputs": [
    {
     "data": {
      "text/plain": [
       "Lo envió a las autoridades acompañado de numerosos testimonios sobre sus experiencias y de varios pliegos de dibujos explicativos, al cuidado de un mensajero que atravesó la sierra, se extravió en pantanos desmesurados, remontó ríos tormentosos y estuvo a punto de perecer bajo el azote de las fieras, la desesperación y la peste, antes de conseguir una ruta de enlace con las mulas del correo."
      ]
     },
     "execution_count": 90,
     "metadata": {},
     "output_type": "execute_result"
    }
   ],
   "source": [
    "import es_core_news_sm\n",
    "nlp_es = es_core_news_sm.load()\n",
    "\n",
    "text=\"\"\"\n",
    "Lo envió a las autoridades acompañado de numerosos testimonios sobre sus experiencias\n",
    "y de varios pliegos de dibujos explicativos, al cuidado de un mensajero que atravesó la sierra,\n",
    "se extravió en pantanos desmesurados, remontó ríos tormentosos y estuvo a punto de perecer bajo el azote de las fieras,\n",
    "la desesperación y la peste, antes de conseguir una ruta de enlace con las mulas del correo.\n",
    "\"\"\"\n",
    "doc = nlp_es(text)\n",
    "doc"
   ]
  },
  {
   "cell_type": "code",
   "execution_count": 158,
   "id": "2be0cf4f-174b-45f9-ba5c-237165cf64c1",
   "metadata": {},
   "outputs": [],
   "source": [
    "from more_itertools import split_at\n",
    "def break_long_sentences(doc):\n",
    "    sublists = list(\" \".join(line) for line in split_at([d.text for d in doc], lambda x: x == \",\"))\n",
    "    return [chunk + ',' if i < len(sublists) - 1 else chunk for i, chunk in enumerate(sublists)]"
   ]
  },
  {
   "cell_type": "code",
   "execution_count": 159,
   "id": "f963ea0c-a04f-488b-8cd6-860fec16649d",
   "metadata": {},
   "outputs": [
    {
     "data": {
      "text/plain": [
       "['Lo envió a las autoridades acompañado de numerosos testimonios sobre sus experiencias y de varios pliegos de dibujos explicativos,',\n",
       " 'al cuidado de un mensajero que atravesó la sierra,',\n",
       " 'se extravió en pantanos desmesurados,',\n",
       " 'remontó ríos tormentosos y estuvo a punto de perecer bajo el azote de las fieras,',\n",
       " 'la desesperación y la peste,',\n",
       " 'antes de conseguir una ruta de enlace con las mulas del correo .']"
      ]
     },
     "execution_count": 159,
     "metadata": {},
     "output_type": "execute_result"
    }
   ],
   "source": [
    "break_long_sentences(doc)"
   ]
  },
  {
   "cell_type": "code",
   "execution_count": 164,
   "id": "f6965bd8-da79-4c2e-a7da-03449692d93f",
   "metadata": {},
   "outputs": [],
   "source": [
    "from itertools import chain\n",
    "def get_es_chunks(text: str) -> list:\n",
    "    doc = nlp_es(text)\n",
    "\n",
    "    chunks = []\n",
    "    current_chunk = \"\"\n",
    "    parts = [break_long_sentences(s) for s in doc.sents]\n",
    "    return list(chain.from_iterable(parts))"
   ]
  },
  {
   "cell_type": "code",
   "execution_count": 161,
   "id": "38b8b1a5-e595-428b-a39f-4d0448a3a8f8",
   "metadata": {},
   "outputs": [],
   "source": [
    "text_es = load_text_from_file(\"output_text_spa.txt\")\n",
    "chunks_es = get_es_chunks(text_es.replace(\"\\n\", \" \"))"
   ]
  },
  {
   "cell_type": "code",
   "execution_count": 162,
   "id": "4fd67386-4109-405d-9324-7be16cae7387",
   "metadata": {},
   "outputs": [
    {
     "data": {
      "text/plain": [
       "1933"
      ]
     },
     "execution_count": 162,
     "metadata": {},
     "output_type": "execute_result"
    }
   ],
   "source": [
    "len(chunks_es)"
   ]
  },
  {
   "cell_type": "code",
   "execution_count": 163,
   "id": "7cc8b1bf-dc08-4a6f-82a0-217718fd0c76",
   "metadata": {},
   "outputs": [
    {
     "data": {
      "text/plain": [
       "['Muchos años después,',\n",
       " 'frente al pelotón de fusilamiento,',\n",
       " 'el coronel Aureliano Buendía había de recordar aquella tarde remota en que su padre 10 llevó a conocer el hielo .',\n",
       " 'Macondo era entonces una aldea de veinte casas de barro y cañabrava construidas a la orilla de un río de aguas diáfanas que se precipitaban por un lecho de piedras pulidas,',\n",
       " 'blancas y enormes como huevos prehistóricos .',\n",
       " 'EI mundo era tan reciente,',\n",
       " 'que muchas cosas carecían de nombre,',\n",
       " 'y para mencionarlas había que señalarlas con el dedo .',\n",
       " 'Todos los años,',\n",
       " 'por el mes de marzo,']"
      ]
     },
     "execution_count": 163,
     "metadata": {},
     "output_type": "execute_result"
    }
   ],
   "source": [
    "chunks_es[:10]"
   ]
  },
  {
   "cell_type": "markdown",
   "id": "40072b09-d8bb-4638-9732-e29a7591a45b",
   "metadata": {},
   "source": [
    "## Step 3 - Embed and match"
   ]
  },
  {
   "cell_type": "code",
   "execution_count": 124,
   "id": "ff146593-bea2-4123-bc5c-4a7a30e0e019",
   "metadata": {},
   "outputs": [],
   "source": [
    "from dotenv import load_dotenv\n",
    "load_dotenv()\n",
    "from openai import OpenAI\n",
    "client = OpenAI(max_retries=5)"
   ]
  },
  {
   "cell_type": "code",
   "execution_count": 126,
   "id": "8ec4fab0-9d33-4fcc-924a-cc7a9022e2a1",
   "metadata": {},
   "outputs": [],
   "source": [
    "from typing import List\n",
    "def get_embedding(text: str, model=\"text-embedding-3-small\", **kwargs) -> List[float]:\n",
    "    # replace newlines, which can negatively affect performance.\n",
    "    text = text.replace(\"\\n\", \" \")\n",
    "\n",
    "    response = client.embeddings.create(input=[text], model=model, **kwargs)\n",
    "\n",
    "    return response.data[0].embedding"
   ]
  },
  {
   "cell_type": "code",
   "execution_count": 168,
   "id": "4c3afe3f-9c28-41a7-8bd0-a16664c80400",
   "metadata": {},
   "outputs": [],
   "source": [
    "def cosine_similarity(a, b):\n",
    "    return np.dot(a, b) / (np.linalg.norm(a) * np.linalg.norm(b))"
   ]
  },
  {
   "cell_type": "code",
   "execution_count": 171,
   "id": "31362da7-9f15-40f8-bcd0-6f3e03fe8031",
   "metadata": {},
   "outputs": [
    {
     "data": {
      "text/plain": [
       "['Много лет спустя, перед самым расстрелом, полковник Аурелиано Буэндия припомнит тот далекий день, когда отец повел его поглядеть на лед.',\n",
       " 'Muchos años después, frente al pelotón de fusilamiento, el coronel Aureliano Buendía había de recordar aquella tarde remota en que su padre 10 llevó a conocer el hielo .']"
      ]
     },
     "metadata": {},
     "output_type": "display_data"
    }
   ],
   "source": [
    "display([chunks_ru[0], \" \".join(chunks_es[0:3])])"
   ]
  },
  {
   "cell_type": "code",
   "execution_count": 172,
   "id": "88a223a1-c476-4998-ad8b-5aa30964609a",
   "metadata": {},
   "outputs": [
    {
     "data": {
      "text/plain": [
       "np.float64(0.5534043118961923)"
      ]
     },
     "execution_count": 172,
     "metadata": {},
     "output_type": "execute_result"
    }
   ],
   "source": [
    "cosine_similarity(get_embedding(chunks_ru[0]), get_embedding(\" \".join(chunks_es[0:3])))"
   ]
  },
  {
   "cell_type": "code",
   "execution_count": 173,
   "id": "0ee4e296-c026-4d32-ab40-6e2e3a2036b0",
   "metadata": {},
   "outputs": [],
   "source": [
    "from googletrans import Translator\n",
    "\n",
    "translator = Translator()\n",
    "async def translate_russian_to_spanish(text: str) -> str:\n",
    "    result = await translator.translate(text, src=\"ru\", dest=\"es\")\n",
    "    return result.text"
   ]
  },
  {
   "cell_type": "code",
   "execution_count": 177,
   "id": "e5a05b2f-9bb6-4460-ba3d-79b3c4119611",
   "metadata": {},
   "outputs": [
    {
     "data": {
      "text/plain": [
       "np.float64(0.8654237965619576)"
      ]
     },
     "execution_count": 177,
     "metadata": {},
     "output_type": "execute_result"
    }
   ],
   "source": [
    "cosine_similarity(get_embedding(await translate_russian_to_spanish(chunks_ru[0])), get_embedding(\" \".join(chunks_es[0:3])))"
   ]
  },
  {
   "cell_type": "code",
   "execution_count": 178,
   "id": "e5e210e8-0bf6-4033-b665-83486e289e4f",
   "metadata": {},
   "outputs": [
    {
     "data": {
      "text/plain": [
       "np.float64(0.8540677287335801)"
      ]
     },
     "execution_count": 178,
     "metadata": {},
     "output_type": "execute_result"
    }
   ],
   "source": [
    "cosine_similarity(get_embedding(await translate_russian_to_spanish(chunks_ru[1])), get_embedding(\" \".join(chunks_es[3:4])))"
   ]
  },
  {
   "cell_type": "code",
   "execution_count": 179,
   "id": "3329be78-aba8-476f-8e93-d80d29f302d2",
   "metadata": {},
   "outputs": [
    {
     "data": {
      "text/plain": [
       "np.float64(0.9072993472482045)"
      ]
     },
     "execution_count": 179,
     "metadata": {},
     "output_type": "execute_result"
    }
   ],
   "source": [
    "cosine_similarity(get_embedding(await translate_russian_to_spanish(chunks_ru[1])), get_embedding(\" \".join(chunks_es[3:5])))"
   ]
  },
  {
   "cell_type": "code",
   "execution_count": 180,
   "id": "e00757e6-ab5d-4d6a-8c32-69f45202710b",
   "metadata": {},
   "outputs": [
    {
     "data": {
      "text/plain": [
       "np.float64(0.8896446964704324)"
      ]
     },
     "execution_count": 180,
     "metadata": {},
     "output_type": "execute_result"
    }
   ],
   "source": [
    "cosine_similarity(get_embedding(await translate_russian_to_spanish(chunks_ru[1])), get_embedding(\" \".join(chunks_es[3:6])))"
   ]
  },
  {
   "cell_type": "code",
   "execution_count": 182,
   "id": "12c5e274-1c00-4ab7-b455-4d7615b8f77a",
   "metadata": {},
   "outputs": [
    {
     "data": {
      "text/plain": [
       "['Макондо был тогда небольшим поселком из двадцати глинобитных, с камышовыми кровлями домишек, стоявших на берегу реки, которая несла свои прозрачные воды по ложу из белых, гладких и огромных, как доисторические яйца, валунов.',\n",
       " ['Macondo era entonces una aldea de veinte casas de barro y cañabrava construidas a la orilla de un río de aguas diáfanas que se precipitaban por un lecho de piedras pulidas,',\n",
       "  'blancas y enormes como huevos prehistóricos .']]"
      ]
     },
     "metadata": {},
     "output_type": "display_data"
    }
   ],
   "source": [
    "display([chunks_ru[1], chunks_es[3:5]])"
   ]
  },
  {
   "cell_type": "code",
   "execution_count": null,
   "id": "8b49c8cc-42b1-40df-95b5-96aab781821b",
   "metadata": {},
   "outputs": [],
   "source": []
  }
 ],
 "metadata": {
  "kernelspec": {
   "display_name": "Python 3 (ipykernel)",
   "language": "python",
   "name": "python3"
  },
  "language_info": {
   "codemirror_mode": {
    "name": "ipython",
    "version": 3
   },
   "file_extension": ".py",
   "mimetype": "text/x-python",
   "name": "python",
   "nbconvert_exporter": "python",
   "pygments_lexer": "ipython3",
   "version": "3.11.8"
  }
 },
 "nbformat": 4,
 "nbformat_minor": 5
}
