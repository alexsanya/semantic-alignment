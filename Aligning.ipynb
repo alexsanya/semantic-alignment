{
 "cells": [
  {
   "cell_type": "markdown",
   "id": "2c470f10-700e-47e2-a98f-810b0f686e1d",
   "metadata": {},
   "source": [
    "# Building a book"
   ]
  },
  {
   "cell_type": "markdown",
   "id": "1e3b15ed-8d58-4192-9da8-5c3de61ee074",
   "metadata": {},
   "source": [
    "## Load text"
   ]
  },
  {
   "cell_type": "code",
   "execution_count": 56,
   "id": "1f9e9182-7805-45f9-9672-1b954f0a3e8d",
   "metadata": {},
   "outputs": [],
   "source": [
    "import spacy\n",
    "nlp_ru = spacy.load(\"ru_core_news_lg\")\n",
    "def split_into_chunks(text: str, max_chars: int = 300) -> list:\n",
    "    doc = nlp_ru(text)\n",
    "    sentences = [sent.text.strip() for sent in doc.sents]\n",
    "\n",
    "    chunks = []\n",
    "    current_chunk = \"\"\n",
    "    for sent in sentences:\n",
    "        if len(current_chunk) + len(sent) <= max_chars:\n",
    "            current_chunk += (\" \" if current_chunk else \"\") + sent\n",
    "        else:\n",
    "            chunks.append(current_chunk)\n",
    "            current_chunk = sent\n",
    "    if current_chunk:\n",
    "        chunks.append(current_chunk)\n",
    "\n",
    "    return chunks"
   ]
  },
  {
   "cell_type": "code",
   "execution_count": 57,
   "id": "d27d8d25-0721-449b-a516-47cd058f9560",
   "metadata": {},
   "outputs": [],
   "source": [
    "from pathlib import Path\n",
    "def load_text_from_file(filepath: str) -> str:\n",
    "    return Path(filepath).read_text(encoding='utf-8')\n",
    "text_ru = load_text_from_file(\"./merge/text_ru.txt\")\n",
    "chunks_ru = split_into_chunks(text_ru.replace(\"\\n\", \" \"), max_chars=300)"
   ]
  },
  {
   "cell_type": "code",
   "execution_count": 58,
   "id": "e6f108b8-ffa8-4d37-b73b-6cf0df67f89a",
   "metadata": {},
   "outputs": [
    {
     "data": {
      "text/plain": [
       "2919"
      ]
     },
     "execution_count": 58,
     "metadata": {},
     "output_type": "execute_result"
    }
   ],
   "source": [
    "len(chunks_ru)"
   ]
  },
  {
   "cell_type": "markdown",
   "id": "774ef563-2c3f-45cc-adaf-06bb29bbbe27",
   "metadata": {},
   "source": [
    "## Create dataframe"
   ]
  },
  {
   "cell_type": "code",
   "execution_count": 59,
   "id": "d36ccffa-89e1-4da5-a2ed-8a3398a63b74",
   "metadata": {},
   "outputs": [],
   "source": [
    "import pandas as pd\n",
    "rus_df = pd.DataFrame({ \"chunk\": chunks_ru })"
   ]
  },
  {
   "cell_type": "code",
   "execution_count": 60,
   "id": "37897dbf-c169-4efd-99d0-72a34a4ba435",
   "metadata": {},
   "outputs": [
    {
     "data": {
      "text/plain": [
       "(2919, 1)"
      ]
     },
     "execution_count": 60,
     "metadata": {},
     "output_type": "execute_result"
    }
   ],
   "source": [
    "rus_df.shape"
   ]
  },
  {
   "cell_type": "markdown",
   "id": "b89f7c1f-847e-4ef3-b29e-9b60608a9d9d",
   "metadata": {},
   "source": [
    "## Add column for translation"
   ]
  },
  {
   "cell_type": "code",
   "execution_count": 61,
   "id": "8b397a6d-2a1a-4d19-8358-433a04cda0a4",
   "metadata": {},
   "outputs": [],
   "source": [
    "from googletrans import Translator\n",
    "\n",
    "translator = Translator()\n",
    "async def translate_russian_to_spanish(text: str) -> str:\n",
    "    result = await translator.translate(text, src=\"ru\", dest=\"es\")\n",
    "    return result.text"
   ]
  },
  {
   "cell_type": "code",
   "execution_count": 62,
   "id": "91f82edb-6a3a-46b8-b44f-2315d0ed1b58",
   "metadata": {},
   "outputs": [
    {
     "name": "stdout",
     "output_type": "stream",
     "text": [
      "<class 'pandas.core.frame.DataFrame'>\n",
      "RangeIndex: 2919 entries, 0 to 2918\n",
      "Data columns (total 1 columns):\n",
      " #   Column  Non-Null Count  Dtype \n",
      "---  ------  --------------  ----- \n",
      " 0   chunk   2919 non-null   object\n",
      "dtypes: object(1)\n",
      "memory usage: 22.9+ KB\n"
     ]
    }
   ],
   "source": [
    "rus_df.info()"
   ]
  },
  {
   "cell_type": "code",
   "execution_count": 63,
   "id": "aec909b6-a209-4539-9775-ac229cdad737",
   "metadata": {},
   "outputs": [],
   "source": [
    "import asyncio\n",
    "import nest_asyncio\n",
    "nest_asyncio.apply()\n",
    "from concurrent.futures import ThreadPoolExecutor"
   ]
  },
  {
   "cell_type": "code",
   "execution_count": 64,
   "id": "d4cb313d-3342-45e3-8fe1-04c881b92f2d",
   "metadata": {},
   "outputs": [],
   "source": [
    "from tqdm.asyncio import tqdm_asyncio\n",
    "# Wrapper to run async function in thread-friendly context\n",
    "async def translate_all(chunks, max_workers=10):\n",
    "    semaphore = asyncio.Semaphore(max_workers)\n",
    "    async def run_chunk(text):\n",
    "        async with semaphore:\n",
    "            return await translate_russian_to_spanish(text)\n",
    "\n",
    "    # Run in batches\n",
    "    tasks = [run_chunk(text) for text in chunks]\n",
    "    return await tqdm_asyncio.gather(*tasks)"
   ]
  },
  {
   "cell_type": "code",
   "execution_count": 65,
   "id": "18963f5a-f68b-4f09-b6ef-074d9dcfa5d3",
   "metadata": {},
   "outputs": [
    {
     "name": "stderr",
     "output_type": "stream",
     "text": [
      "100%|████████████████████████████████████████████████████████████████████████████████████████████████████| 2919/2919 [01:27<00:00, 33.45it/s]\n"
     ]
    }
   ],
   "source": [
    "# Run translation asynchronously and assign to new column\n",
    "translations = asyncio.run(translate_all(rus_df[\"chunk\"].tolist(), max_workers=20))\n",
    "rus_df[\"translation\"] = translations"
   ]
  },
  {
   "cell_type": "code",
   "execution_count": 66,
   "id": "18cd76e7-e0f1-4e64-893f-eb57ebd56ad5",
   "metadata": {},
   "outputs": [
    {
     "data": {
      "text/html": [
       "<div>\n",
       "<style scoped>\n",
       "    .dataframe tbody tr th:only-of-type {\n",
       "        vertical-align: middle;\n",
       "    }\n",
       "\n",
       "    .dataframe tbody tr th {\n",
       "        vertical-align: top;\n",
       "    }\n",
       "\n",
       "    .dataframe thead th {\n",
       "        text-align: right;\n",
       "    }\n",
       "</style>\n",
       "<table border=\"1\" class=\"dataframe\">\n",
       "  <thead>\n",
       "    <tr style=\"text-align: right;\">\n",
       "      <th></th>\n",
       "      <th>chunk</th>\n",
       "      <th>translation</th>\n",
       "    </tr>\n",
       "  </thead>\n",
       "  <tbody>\n",
       "    <tr>\n",
       "      <th>2916</th>\n",
       "      <td>Макондо был уже почти весь перемолот в пыль и ...</td>\n",
       "      <td>Macondo ya estaba casi abrumado en el polvo y ...</td>\n",
       "    </tr>\n",
       "    <tr>\n",
       "      <th>2917</th>\n",
       "      <td>Скользнул взглядом ниже, чтобы пропустить пред...</td>\n",
       "      <td>Miró a continuación para perder las prediccion...</td>\n",
       "    </tr>\n",
       "    <tr>\n",
       "      <th>2918</th>\n",
       "      <td>Однако прежде чем взглянуть на последний стих,...</td>\n",
       "      <td>Sin embargo, antes de mirar el último versícul...</td>\n",
       "    </tr>\n",
       "  </tbody>\n",
       "</table>\n",
       "</div>"
      ],
      "text/plain": [
       "                                                  chunk  \\\n",
       "2916  Макондо был уже почти весь перемолот в пыль и ...   \n",
       "2917  Скользнул взглядом ниже, чтобы пропустить пред...   \n",
       "2918  Однако прежде чем взглянуть на последний стих,...   \n",
       "\n",
       "                                            translation  \n",
       "2916  Macondo ya estaba casi abrumado en el polvo y ...  \n",
       "2917  Miró a continuación para perder las prediccion...  \n",
       "2918  Sin embargo, antes de mirar el último versícul...  "
      ]
     },
     "execution_count": 66,
     "metadata": {},
     "output_type": "execute_result"
    }
   ],
   "source": [
    "rus_df.tail(3)"
   ]
  },
  {
   "cell_type": "code",
   "execution_count": 67,
   "id": "125bf21d-d468-4418-9547-f26cf1033707",
   "metadata": {},
   "outputs": [],
   "source": [
    "rus_df.to_pickle(\"./merge/rus_df.pkl\")"
   ]
  },
  {
   "cell_type": "markdown",
   "id": "4aa8d233-d3f3-4c72-a690-284c65a5e5ac",
   "metadata": {},
   "source": [
    "## Add embeddings"
   ]
  },
  {
   "cell_type": "code",
   "execution_count": 68,
   "id": "762cd5b9-eb0f-4dad-8664-3c98d49e7660",
   "metadata": {},
   "outputs": [],
   "source": [
    "from dotenv import load_dotenv\n",
    "load_dotenv()\n",
    "from openai import AsyncOpenAI\n",
    "client = AsyncOpenAI(max_retries=5)\n",
    "from typing import List\n",
    "async def get_embedding(text: str, model=\"text-embedding-3-small\", **kwargs) -> List[float]:\n",
    "    # replace newlines, which can negatively affect performance.\n",
    "    text = text.replace(\"\\n\", \" \")\n",
    "\n",
    "    response = await client.embeddings.create(input=[text], model=model, **kwargs)\n",
    "\n",
    "    return response.data[0].embedding"
   ]
  },
  {
   "cell_type": "code",
   "execution_count": 69,
   "id": "7b4d13bf-6bb7-4c28-9115-4d89c217e7d1",
   "metadata": {},
   "outputs": [],
   "source": [
    "from tqdm.asyncio import tqdm_asyncio\n",
    "# Wrapper to run async function in thread-friendly context\n",
    "async def embed_all(chunks, max_workers=10):\n",
    "    semaphore = asyncio.Semaphore(max_workers)\n",
    "    async def run_chunk(text):\n",
    "        async with semaphore:\n",
    "            return await get_embedding(text)\n",
    "\n",
    "    # Run in batches\n",
    "    tasks = [run_chunk(text) for text in chunks]\n",
    "    return await tqdm_asyncio.gather(*tasks)"
   ]
  },
  {
   "cell_type": "code",
   "execution_count": 70,
   "id": "5cd0298e-6482-4b6d-afd0-e9047d6b86b5",
   "metadata": {},
   "outputs": [
    {
     "data": {
      "text/plain": [
       "(2919, 2)"
      ]
     },
     "execution_count": 70,
     "metadata": {},
     "output_type": "execute_result"
    }
   ],
   "source": [
    "rus_df.shape"
   ]
  },
  {
   "cell_type": "code",
   "execution_count": 71,
   "id": "f21ce987-1574-4ecc-b476-182da425d8cd",
   "metadata": {},
   "outputs": [
    {
     "name": "stderr",
     "output_type": "stream",
     "text": [
      "100%|████████████████████████████████████████████████████████████████████████████████████████████████████| 2919/2919 [00:52<00:00, 56.10it/s]\n"
     ]
    }
   ],
   "source": [
    "subset = rus_df[\"translation\"].tolist()\n",
    "embeddings = asyncio.run(embed_all(subset, max_workers=20))"
   ]
  },
  {
   "cell_type": "code",
   "execution_count": 72,
   "id": "934b4b0d-5f85-4277-961a-34e88f65b0a2",
   "metadata": {},
   "outputs": [
    {
     "data": {
      "text/plain": [
       "[2919, (2919, 2)]"
      ]
     },
     "execution_count": 72,
     "metadata": {},
     "output_type": "execute_result"
    }
   ],
   "source": [
    "[len(embeddings), rus_df.shape]"
   ]
  },
  {
   "cell_type": "code",
   "execution_count": 73,
   "id": "5578758b-78c5-46f9-904b-148b47961ba9",
   "metadata": {},
   "outputs": [],
   "source": [
    "rus_df[\"embedding\"] = embeddings"
   ]
  },
  {
   "cell_type": "code",
   "execution_count": 74,
   "id": "7c2f78f2-f7a4-48f3-a12a-962f8d9504ec",
   "metadata": {},
   "outputs": [],
   "source": [
    "rus_df.to_pickle(\"./merge/rus_df.pkl\")"
   ]
  },
  {
   "cell_type": "code",
   "execution_count": 75,
   "id": "b587ddaa-026d-4a70-a92a-4685901845c2",
   "metadata": {},
   "outputs": [
    {
     "data": {
      "text/html": [
       "<div>\n",
       "<style scoped>\n",
       "    .dataframe tbody tr th:only-of-type {\n",
       "        vertical-align: middle;\n",
       "    }\n",
       "\n",
       "    .dataframe tbody tr th {\n",
       "        vertical-align: top;\n",
       "    }\n",
       "\n",
       "    .dataframe thead th {\n",
       "        text-align: right;\n",
       "    }\n",
       "</style>\n",
       "<table border=\"1\" class=\"dataframe\">\n",
       "  <thead>\n",
       "    <tr style=\"text-align: right;\">\n",
       "      <th></th>\n",
       "      <th>chunk</th>\n",
       "      <th>translation</th>\n",
       "      <th>embedding</th>\n",
       "    </tr>\n",
       "  </thead>\n",
       "  <tbody>\n",
       "    <tr>\n",
       "      <th>0</th>\n",
       "      <td>— Я хочу быть только с тобой, — заявил он. — С...</td>\n",
       "      <td>\"Solo quiero estar contigo\", dijo. - Pronto le...</td>\n",
       "      <td>[0.02256019599735737, -0.029076769948005676, -...</td>\n",
       "    </tr>\n",
       "  </tbody>\n",
       "</table>\n",
       "</div>"
      ],
      "text/plain": [
       "                                               chunk  \\\n",
       "0  — Я хочу быть только с тобой, — заявил он. — С...   \n",
       "\n",
       "                                         translation  \\\n",
       "0  \"Solo quiero estar contigo\", dijo. - Pronto le...   \n",
       "\n",
       "                                           embedding  \n",
       "0  [0.02256019599735737, -0.029076769948005676, -...  "
      ]
     },
     "execution_count": 75,
     "metadata": {},
     "output_type": "execute_result"
    }
   ],
   "source": [
    "rus_df.head(1)"
   ]
  },
  {
   "cell_type": "markdown",
   "id": "d95782bb-b9e8-4e1a-937c-a69ef0467c69",
   "metadata": {},
   "source": [
    "## Get target edition chunks"
   ]
  },
  {
   "cell_type": "code",
   "execution_count": 76,
   "id": "eb2aab0a-3a61-4bf8-8893-34a1a54210dc",
   "metadata": {},
   "outputs": [],
   "source": [
    "from more_itertools import split_at\n",
    "def break_long_sentences(doc):\n",
    "    sublists = list(\" \".join(line) for line in split_at([d.text for d in doc], lambda x: x == \",\"))\n",
    "    return [chunk + ',' if i < len(sublists) - 1 else chunk for i, chunk in enumerate(sublists)]"
   ]
  },
  {
   "cell_type": "code",
   "execution_count": 79,
   "id": "1288a151-9198-47be-a911-8404457af7cb",
   "metadata": {},
   "outputs": [],
   "source": [
    "from itertools import chain\n",
    "import es_core_news_sm\n",
    "nlp_es = es_core_news_sm.load()\n",
    "def get_es_chunks(text: str) -> list:\n",
    "    doc = nlp_es(text)\n",
    "\n",
    "    chunks = []\n",
    "    current_chunk = \"\"\n",
    "    parts = [break_long_sentences(s) for s in doc.sents]\n",
    "    return list(chain.from_iterable(parts))"
   ]
  },
  {
   "cell_type": "code",
   "execution_count": 80,
   "id": "cc5d2c2f-ecee-4cda-8090-b9f2518c63cb",
   "metadata": {},
   "outputs": [],
   "source": [
    "text_es = load_text_from_file(\"./merge/text_es.txt\")\n",
    "chunks_es = get_es_chunks(text_es.replace(\"\\n\", \" \"))"
   ]
  },
  {
   "cell_type": "code",
   "execution_count": 81,
   "id": "99b1dc2e-032e-471b-82fe-4b694bb50c6e",
   "metadata": {},
   "outputs": [
    {
     "data": {
      "text/plain": [
       "13442"
      ]
     },
     "execution_count": 81,
     "metadata": {},
     "output_type": "execute_result"
    }
   ],
   "source": [
    "len(chunks_es)"
   ]
  },
  {
   "cell_type": "code",
   "execution_count": 82,
   "id": "7497c7ea-1337-42b1-b975-e3fcdbafa505",
   "metadata": {},
   "outputs": [],
   "source": [
    "df_es = pd.DataFrame({ \"chunk\": chunks_es })"
   ]
  },
  {
   "cell_type": "code",
   "execution_count": 83,
   "id": "3ad1b43e-6c51-4b1d-8b61-dcfeafd5c751",
   "metadata": {},
   "outputs": [
    {
     "data": {
      "text/plain": [
       "(13442, 1)"
      ]
     },
     "execution_count": 83,
     "metadata": {},
     "output_type": "execute_result"
    }
   ],
   "source": [
    "df_es.shape"
   ]
  },
  {
   "cell_type": "code",
   "execution_count": null,
   "id": "2d3bc0ec-f894-4744-a142-29fb66dcd687",
   "metadata": {},
   "outputs": [],
   "source": [
    "df_es.to_pickle(\"./merge/es_df.pkl\")"
   ]
  },
  {
   "cell_type": "code",
   "execution_count": 120,
   "id": "3590cd29-1e1c-4d5c-8c53-e0c798c99b8e",
   "metadata": {},
   "outputs": [
    {
     "data": {
      "text/plain": [
       "chunk          — Я хочу быть только с тобой, — заявил он. — С...\n",
       "translation    \"Solo quiero estar contigo\", dijo. - Pronto le...\n",
       "embedding      [0.02256019599735737, -0.029076769948005676, -...\n",
       "match                                                       None\n",
       "Name: 0, dtype: object"
      ]
     },
     "execution_count": 120,
     "metadata": {},
     "output_type": "execute_result"
    }
   ],
   "source": [
    "rus_df['match'] = None\n",
    "rus_df.loc[0]"
   ]
  },
  {
   "cell_type": "code",
   "execution_count": 109,
   "id": "8b0c4216-6df8-48e3-a1f9-caff3e320e5c",
   "metadata": {},
   "outputs": [
    {
     "data": {
      "text/plain": [
       "0    [0.02256019599735737, -0.029076769948005676, -...\n",
       "1    [0.0629948303103447, -0.008339416235685349, -0...\n",
       "2    [0.05613021180033684, -0.00419988390058279, 0....\n",
       "Name: embedding, dtype: object"
      ]
     },
     "execution_count": 109,
     "metadata": {},
     "output_type": "execute_result"
    }
   ],
   "source": [
    "rus_df['embedding'][:3]"
   ]
  },
  {
   "cell_type": "code",
   "execution_count": 106,
   "id": "41d420be-6ff8-44ec-97a0-1101ab23f993",
   "metadata": {},
   "outputs": [],
   "source": [
    "import numpy as np\n",
    "def cosine_similarity(a, b):\n",
    "    return np.dot(a, b) / (np.linalg.norm(a) * np.linalg.norm(b))"
   ]
  },
  {
   "cell_type": "code",
   "execution_count": 110,
   "id": "910a9409-89d1-4eaa-ba48-fdb7ae737c9c",
   "metadata": {},
   "outputs": [],
   "source": [
    "async def get_matching_fragment(embed, pointer):\n",
    "    i=pointer+1\n",
    "    last_score = -1\n",
    "    while 1:\n",
    "        score = cosine_similarity(\n",
    "            embed,\n",
    "            await get_embedding(\" \".join(chunks_es[pointer:i]))\n",
    "        )\n",
    "        if (score < last_score):\n",
    "            break\n",
    "        last_score = score\n",
    "        i += 1\n",
    "    return (\" \".join(chunks_es[pointer:i-1]), i-1, last_score)"
   ]
  },
  {
   "cell_type": "code",
   "execution_count": 127,
   "id": "d056230b-4778-4bc1-a423-d3bf63004bd2",
   "metadata": {},
   "outputs": [
    {
     "name": "stdout",
     "output_type": "stream",
     "text": [
      "✅ Data stored to file\n",
      "✅ fragment 0 |️ 0.7487427146261971\n",
      "✅ fragment 1 |️ 0.8651565082225524\n",
      "✅ fragment 2 |️ 0.6724228675231383\n",
      "✅ fragment 3 |️ 0.648529889039089\n",
      "✅ fragment 4 |️ 0.6051339958340011\n",
      "✅ fragment 5 |️ 0.7873766153073934\n",
      "✅ fragment 6 |️ 0.7354530715335702\n",
      "✅ fragment 7 |️ 0.7372134644935845\n",
      "✅ fragment 8 |️ 0.8817601594716075\n",
      "✅ fragment 9 |️ 0.8325358072585453\n",
      "✅ Data stored to file\n",
      "✅ fragment 10 |️ 0.8162378863515477\n",
      "🔁 Retracing for fragment 11 | pointer 51 |️ 0.4365744334970984\n",
      "🔁 Retracing for fragment 11 | pointer 50 |️ 0.4596365200876108\n",
      "✅ fragment 11 |️ 0.7607178223732834\n",
      "✅ fragment 12 |️ 0.7160444095225752\n",
      "✅ fragment 13 |️ 0.6442303363845537\n",
      "✅ fragment 14 |️ 0.6377902251924785\n",
      "✅ fragment 15 |️ 0.7045976805923272\n",
      "✅ fragment 16 |️ 0.7644475524734028\n",
      "✅ fragment 17 |️ 0.809622991553264\n",
      "✅ fragment 18 |️ 0.7864550272925133\n",
      "✅ fragment 19 |️ 0.8013021441533662\n",
      "🔁 Retracing for fragment 20 | pointer 95 |️ 0.3896197073916885\n",
      "🔁 Retracing for fragment 20 | pointer 94 |️ 0.4064374467262238\n",
      "🔁 Retracing for fragment 20 | pointer 93 |️ 0.4893522978556394\n",
      "🔁 Retracing for fragment 20 | pointer 92 |️ 0.47856862579689774\n",
      "🔁 Retracing for fragment 20 | pointer 91 |️ 0.36331935228369017\n",
      "🔁 Retracing for fragment 20 | pointer 95 |️ 0.45780491884887253\n",
      "✅ Data stored to file\n",
      "✅ fragment 20 |️ 0.7198905525747747\n",
      "✅ fragment 21 |️ 0.6074942087087782\n",
      "✅ fragment 22 |️ 0.6750195689192201\n",
      "🔁 Retracing for fragment 23 | pointer 110 |️ 0.399130143755393\n",
      "🔁 Retracing for fragment 23 | pointer 109 |️ 0.5008873667874859\n",
      "🔁 Retracing for fragment 23 | pointer 108 |️ 0.4264792290693738\n",
      "🔁 Retracing for fragment 23 | pointer 107 |️ 0.4676859560892165\n",
      "🔁 Retracing for fragment 23 | pointer 106 |️ 0.3312004546037622\n",
      "🔁 Retracing for fragment 23 | pointer 110 |️ 0.3493860578842584\n",
      "✅ fragment 23 |️ 0.6597593809823029\n",
      "✅ fragment 24 |️ 0.6675039135704659\n",
      "✅ fragment 25 |️ 0.6848263325559094\n",
      "✅ fragment 26 |️ 0.8052521923440404\n",
      "✅ fragment 27 |️ 0.8020888619500604\n",
      "✅ fragment 28 |️ 0.8390884625753534\n",
      "✅ fragment 29 |️ 0.7502742391994284\n",
      "✅ Data stored to file\n",
      "✅ fragment 30 |️ 0.691099176729971\n",
      "✅ fragment 31 |️ 0.7656909634825547\n",
      "✅ fragment 32 |️ 0.8725396486163571\n",
      "🔁 Retracing for fragment 33 | pointer 162 |️ 0.39444190159110004\n",
      "✅ fragment 33 |️ 0.7039467769406497\n",
      "✅ fragment 34 |️ 0.8448408781384513\n",
      "✅ fragment 35 |️ 0.8297087517072848\n",
      "✅ fragment 36 |️ 0.6882177727914133\n",
      "✅ fragment 37 |️ 0.7401248281382383\n",
      "✅ fragment 38 |️ 0.8153046516620212\n",
      "✅ fragment 39 |️ 0.7771766037069663\n",
      "✅ Data stored to file\n",
      "✅ fragment 40 |️ 0.7677320762026523\n",
      "✅ fragment 41 |️ 0.7877758119720958\n",
      "✅ fragment 42 |️ 0.777903162793722\n",
      "✅ fragment 43 |️ 0.8559420061024019\n",
      "✅ fragment 44 |️ 0.7254100141899074\n",
      "✅ fragment 45 |️ 0.8048240915260558\n",
      "✅ fragment 46 |️ 0.8082263321919406\n",
      "✅ fragment 47 |️ 0.7338386610464384\n",
      "✅ fragment 48 |️ 0.7977836554442792\n",
      "✅ fragment 49 |️ 0.8518958115460215\n",
      "✅ Data stored to file\n",
      "✅ fragment 50 |️ 0.838350863360384\n",
      "✅ fragment 51 |️ 0.8578737498494993\n",
      "✅ fragment 52 |️ 0.754558984619373\n",
      "✅ fragment 53 |️ 0.7337282249453897\n",
      "✅ fragment 54 |️ 0.8913874097874277\n",
      "✅ fragment 55 |️ 0.7134577266458947\n",
      "🔁 Retracing for fragment 56 | pointer 261 |️ 0.5952772363102475\n",
      "🔁 Retracing for fragment 56 | pointer 260 |️ 0.5515779157782881\n",
      "✅ fragment 56 |️ 0.7166767291496322\n",
      "✅ fragment 57 |️ 0.6725669648433144\n",
      "✅ fragment 58 |️ 0.6060129594224225\n",
      "✅ fragment 59 |️ 0.7186360673218621\n",
      "✅ Data stored to file\n",
      "✅ fragment 60 |️ 0.801293013553428\n",
      "🔁 Retracing for fragment 61 | pointer 281 |️ 0.548654309369877\n",
      "✅ fragment 61 |️ 0.6491662376155943\n",
      "✅ fragment 62 |️ 0.8436269729205966\n",
      "✅ fragment 63 |️ 0.8173687727221965\n",
      "✅ fragment 64 |️ 0.8329604661507088\n",
      "✅ fragment 65 |️ 0.7566022526417907\n",
      "✅ fragment 66 |️ 0.7870850884791746\n",
      "✅ fragment 67 |️ 0.8098221038663385\n",
      "✅ fragment 68 |️ 0.7149286035916566\n",
      "✅ fragment 69 |️ 0.6594174245778358\n",
      "✅ Data stored to file\n",
      "✅ fragment 70 |️ 0.7767958327098178\n",
      "✅ fragment 71 |️ 0.7195183175598503\n",
      "✅ fragment 72 |️ 0.839360436253126\n",
      "✅ fragment 73 |️ 0.7199623071803205\n",
      "✅ fragment 74 |️ 0.8359208971214356\n",
      "✅ fragment 75 |️ 0.8441479240204182\n",
      "✅ fragment 76 |️ 0.7056997628241933\n",
      "✅ fragment 77 |️ 0.891021519250614\n",
      "✅ fragment 78 |️ 0.6726713775513914\n",
      "✅ fragment 79 |️ 0.7246122103911797\n",
      "✅ Data stored to file\n",
      "✅ fragment 80 |️ 0.8732614000013939\n",
      "✅ fragment 81 |️ 0.6923902266679606\n",
      "✅ fragment 82 |️ 0.6967154354830942\n",
      "✅ fragment 83 |️ 0.8104846398062374\n",
      "🔁 Retracing for fragment 84 | pointer 366 |️ 0.34890860048123473\n",
      "✅ fragment 84 |️ 0.7316751270340163\n",
      "✅ fragment 85 |️ 0.820749399782927\n",
      "✅ fragment 86 |️ 0.8155601975147235\n",
      "✅ fragment 87 |️ 0.8617598362681594\n",
      "✅ fragment 88 |️ 0.8825745742857286\n",
      "✅ fragment 89 |️ 0.786952799781208\n",
      "✅ Data stored to file\n",
      "✅ fragment 90 |️ 0.744476022242149\n",
      "✅ fragment 91 |️ 0.8355737747300342\n",
      "✅ fragment 92 |️ 0.7521077771485754\n",
      "✅ fragment 93 |️ 0.802231724931721\n",
      "✅ fragment 94 |️ 0.8989226271959897\n",
      "✅ fragment 95 |️ 0.7571141836855709\n",
      "✅ fragment 96 |️ 0.8633138664419062\n",
      "✅ fragment 97 |️ 0.752026083244698\n",
      "✅ fragment 98 |️ 0.8142840162174012\n",
      "✅ fragment 99 |️ 0.7453955697433182\n",
      "✅ Data stored to file\n",
      "✅ fragment 100 |️ 0.7516718970803753\n",
      "✅ fragment 101 |️ 0.751234172642163\n",
      "✅ fragment 102 |️ 0.6357922570442398\n",
      "✅ fragment 103 |️ 0.7145653885585576\n",
      "🔁 Retracing for fragment 104 | pointer 440 |️ 0.560935318339363\n",
      "✅ fragment 104 |️ 0.6569599663590198\n",
      "🔁 Retracing for fragment 105 | pointer 448 |️ 0.41781283384679524\n",
      "🔁 Retracing for fragment 105 | pointer 447 |️ 0.5566122456686539\n",
      "🔁 Retracing for fragment 105 | pointer 446 |️ 0.5867482720151288\n",
      "✅ fragment 105 |️ 0.7862444870646639\n",
      "✅ fragment 106 |️ 0.7639685553528233\n",
      "✅ fragment 107 |️ 0.7539925922630875\n",
      "✅ fragment 108 |️ 0.7064607952943894\n",
      "✅ fragment 109 |️ 0.6676019980640787\n",
      "✅ Data stored to file\n",
      "✅ fragment 110 |️ 0.8309320980160289\n",
      "✅ fragment 111 |️ 0.7821460806832565\n",
      "✅ fragment 112 |️ 0.824676241330465\n",
      "🔁 Retracing for fragment 113 | pointer 476 |️ 0.5811737382131519\n",
      "✅ fragment 113 |️ 0.656574985238182\n",
      "✅ fragment 114 |️ 0.6376186234988133\n",
      "✅ fragment 115 |️ 0.8439032076686529\n",
      "✅ fragment 116 |️ 0.9080784138867473\n",
      "✅ fragment 117 |️ 0.8011742534443137\n",
      "✅ fragment 118 |️ 0.746852890245796\n",
      "✅ fragment 119 |️ 0.8611832708980244\n",
      "✅ Data stored to file\n",
      "✅ fragment 120 |️ 0.7097694963233125\n",
      "✅ fragment 121 |️ 0.82269656462658\n",
      "✅ fragment 122 |️ 0.8669725482419254\n",
      "✅ fragment 123 |️ 0.6302760886594556\n",
      "✅ fragment 124 |️ 0.8143320781058649\n",
      "✅ fragment 125 |️ 0.8640116524371849\n",
      "✅ fragment 126 |️ 0.8436204219671096\n",
      "✅ fragment 127 |️ 0.695442993018144\n",
      "🔁 Retracing for fragment 128 | pointer 552 |️ 0.2758297257781451\n",
      "🔁 Retracing for fragment 128 | pointer 551 |️ 0.29165483352209454\n",
      "🔁 Retracing for fragment 128 | pointer 550 |️ 0.27667186862651816\n",
      "🔁 Retracing for fragment 128 | pointer 549 |️ 0.29641964025458545\n",
      "🔁 Retracing for fragment 128 | pointer 548 |️ 0.2951083170021765\n",
      "🔁 Retracing for fragment 128 | pointer 552 |️ 0.2946414747632403\n",
      "🔁 Retracing for fragment 128 | pointer 553 |️ 0.2867475804151029\n",
      "🔁 Retracing for fragment 128 | pointer 554 |️ 0.3082649164831482\n",
      "🔁 Retracing for fragment 128 | pointer 555 |️ 0.29487388860549657\n",
      "🔁 Retracing for fragment 128 | pointer 556 |️ 0.3063733495063832\n"
     ]
    }
   ],
   "source": [
    "pointer = 0\n",
    "for (i, ru_embed) in enumerate(rus_df['embedding']):\n",
    "    (es_chunk, new_pointer, score) = await get_matching_fragment(ru_embed, pointer)\n",
    "    retries = 0\n",
    "    while (score < 0.6) and (retries < 5):\n",
    "        print(f\"🔁 Retracing for fragment {i} | pointer {pointer} |️ {score}\")\n",
    "        pointer -= 1\n",
    "        (es_chunk, new_pointer, score) = await get_matching_fragment(ru_embed, pointer)\n",
    "        retries += 1\n",
    "    pointer += retries\n",
    "    retries = 0\n",
    "    while (score < 0.6) and (retries < 5):\n",
    "        print(f\"🔁 Retracing for fragment {i} | pointer {pointer} |️ {score}\")\n",
    "        pointer += 1\n",
    "        (es_chunk, new_pointer, score) = await get_matching_fragment(ru_embed, pointer)\n",
    "        retries += 1\n",
    "    if (score < 0.6):\n",
    "        rus_df.to_pickle(\"./merge/rus_df_matched.pkl\")\n",
    "        break\n",
    "    pointer = new_pointer\n",
    "    rus_df.loc[i, \"match\"] = es_chunk\n",
    "    if i % 10 == 0:\n",
    "        rus_df.to_pickle(\"./merge/rus_df_matched.pkl\")\n",
    "        print(f\"✅ Data stored to file\")\n",
    "    print(f\"✅ fragment {i} |️ {score}\")"
   ]
  },
  {
   "cell_type": "code",
   "execution_count": 117,
   "id": "72bceb4a-47ce-48bd-a7d3-4576b1ff19bd",
   "metadata": {},
   "outputs": [],
   "source": [
    "rus_df = pd.read_pickle(\"./merge/rus_df.pkl\")"
   ]
  },
  {
   "cell_type": "code",
   "execution_count": 122,
   "id": "acaf7df6-bf3e-4524-8584-81cbaad1726e",
   "metadata": {},
   "outputs": [
    {
     "data": {
      "text/plain": [
       "(2919, 4)"
      ]
     },
     "execution_count": 122,
     "metadata": {},
     "output_type": "execute_result"
    }
   ],
   "source": [
    "rus_df.shape"
   ]
  },
  {
   "cell_type": "code",
   "execution_count": 129,
   "id": "26036138-96f7-4dc2-bde2-66f8419f8173",
   "metadata": {},
   "outputs": [
    {
     "data": {
      "text/plain": [
       "['Они болтали без умолку, перебивая друг друга, рассказывали до обалдения одни и те же старые анекдоты, участвовали в шутейном действе про белого бычка, а если все молчали, рассказчик говорил, что он просил не молчать, а сказать, хотят ли они слушать сказку про белого бычка, и никто не мог уйти, потому что рассказчик говорил, что он не просил уходить, а лишь ответить, хотят ли они слушать сказку про белого бычка, и так без конца, все ночи напролет, загнав себя в порочный круг пустопорожних фраз.',\n",
       " 'Se reunían a conversar sin tregua, a repetirse durante horas y horas los mismos chistes, a complicar hasta los límites de la exasperación el cuento del gallo capón, que era un juego infinito en que el narrador preguntaba si querían que les contara el cuento del gallo capón, y cuando contestaban que sí, el narrador decía que no les había pedido que dijeran que sí,']"
      ]
     },
     "execution_count": 129,
     "metadata": {},
     "output_type": "execute_result"
    }
   ],
   "source": [
    "[rus_df.loc[127, \"chunk\"], rus_df.loc[127, \"match\"]]"
   ]
  },
  {
   "cell_type": "code",
   "execution_count": 132,
   "id": "e7b3a1f0-cbd2-44e6-88cc-2521dd85fb5f",
   "metadata": {},
   "outputs": [
    {
     "data": {
      "text/plain": [
       "'Когда Хосе Аркадио Буэндия понял, что поветрие распространилось по всему городку, он собрал отцов семейств и рассказал им все, что знал о бессонной болезни, и было решено принять меры, чтобы помешать заразе перекинуться на соседние селения.'"
      ]
     },
     "execution_count": 132,
     "metadata": {},
     "output_type": "execute_result"
    }
   ],
   "source": [
    "rus_df.loc[128, \"chunk\"]"
   ]
  },
  {
   "cell_type": "code",
   "execution_count": 155,
   "id": "0c7dae39-2d1a-40ad-aeb1-c0d66af52093",
   "metadata": {},
   "outputs": [
    {
     "data": {
      "text/plain": [
       "['Когда Хосе Аркадио Буэндия понял, что поветрие распространилось по всему городку, он собрал отцов семейств и рассказал им все, что знал о бессонной болезни, и было решено принять меры, чтобы помешать заразе перекинуться на соседние селения.',\n",
       " 'Cuando José Arcadio Buendía se dio cuenta de que la peste había invadido el pueblo,']"
      ]
     },
     "execution_count": 155,
     "metadata": {},
     "output_type": "execute_result"
    }
   ],
   "source": [
    "[rus_df.loc[128, \"chunk\"], chunks_es[563]]"
   ]
  },
  {
   "cell_type": "code",
   "execution_count": null,
   "id": "5743851d-35ce-4b80-9aa2-edcd4a1e3284",
   "metadata": {},
   "outputs": [],
   "source": [
    "pointer"
   ]
  },
  {
   "cell_type": "code",
   "execution_count": 154,
   "id": "97784f24-c924-43f9-9ce7-1487dc6e7001",
   "metadata": {},
   "outputs": [
    {
     "data": {
      "text/plain": [
       "<function list.index(value, start=0, stop=9223372036854775807, /)>"
      ]
     },
     "execution_count": 154,
     "metadata": {},
     "output_type": "execute_result"
    }
   ],
   "source": [
    "rus_df['embedding'][128].index"
   ]
  },
  {
   "cell_type": "code",
   "execution_count": 158,
   "id": "070ef583-69fc-4b6b-ba8f-36bbb6e6e2b6",
   "metadata": {},
   "outputs": [
    {
     "name": "stdout",
     "output_type": "stream",
     "text": [
      "✅ fragment 128 |️ 0.6930626802641963\n",
      "✅ fragment 129 |️ 0.7282699385569497\n",
      "🔁 Retracing for fragment 130 | pointer 569 |️ 0.44161795026677586\n",
      "✅ Data stored to file\n",
      "✅ fragment 130 |️ 0.7641808259784947\n",
      "✅ fragment 131 |️ 0.7393764084549267\n",
      "✅ fragment 132 |️ 0.8678477350338707\n",
      "✅ fragment 133 |️ 0.6948443729361155\n",
      "✅ fragment 134 |️ 0.7533633242103599\n",
      "✅ fragment 135 |️ 0.7345502172055403\n",
      "🔁 Retracing for fragment 136 | pointer 589 |️ 0.5540566195515938\n",
      "🔁 Retracing for fragment 136 | pointer 588 |️ 0.497206988233643\n",
      "🔁 Retracing for fragment 136 | pointer 587 |️ 0.4612396626505195\n",
      "🔁 Retracing for fragment 136 | pointer 586 |️ 0.43541941298402626\n",
      "🔁 Retracing for fragment 136 | pointer 585 |️ 0.366250138413826\n",
      "🔁 Retracing for fragment 136 | pointer 589 |️ 0.3857825252446326\n",
      "🔁 Retracing for fragment 136 | pointer 590 |️ 0.53834614672186\n",
      "🔁 Retracing for fragment 136 | pointer 591 |️ 0.3075580660798289\n",
      "🔁 Retracing for fragment 136 | pointer 592 |️ 0.29326566709477087\n",
      "🔁 Retracing for fragment 136 | pointer 593 |️ 0.3282711823584652\n"
     ]
    }
   ],
   "source": [
    "pointer = 563\n",
    "for (i, ru_embed) in enumerate(rus_df['embedding'][128:], start=128):\n",
    "    (es_chunk, new_pointer, score) = await get_matching_fragment(ru_embed, pointer)\n",
    "    retries = 0\n",
    "    while (score < 0.6) and (retries < 5):\n",
    "        print(f\"🔁 Retracing for fragment {i} | pointer {pointer} |️ {score}\")\n",
    "        pointer -= 1\n",
    "        (es_chunk, new_pointer, score) = await get_matching_fragment(ru_embed, pointer)\n",
    "        retries += 1\n",
    "    pointer += retries\n",
    "    retries = 0\n",
    "    while (score < 0.6) and (retries < 5):\n",
    "        print(f\"🔁 Retracing for fragment {i} | pointer {pointer} |️ {score}\")\n",
    "        pointer += 1\n",
    "        (es_chunk, new_pointer, score) = await get_matching_fragment(ru_embed, pointer)\n",
    "        retries += 1\n",
    "    if (score < 0.6):\n",
    "        rus_df.to_pickle(\"./merge/rus_df_matched.pkl\")\n",
    "        break\n",
    "    pointer = new_pointer\n",
    "    rus_df.loc[i, \"match\"] = es_chunk\n",
    "    if i % 10 == 0:\n",
    "        rus_df.to_pickle(\"./merge/rus_df_matched.pkl\")\n",
    "        print(f\"✅ Data stored to file\")\n",
    "    print(f\"✅ fragment {i} |️ {score}\")"
   ]
  },
  {
   "cell_type": "code",
   "execution_count": 163,
   "id": "8fd31325-06cf-4dfe-a912-3df10ee3b24f",
   "metadata": {},
   "outputs": [
    {
     "data": {
      "text/plain": [
       "'Тогда он прилепил на них нужные наклейки, и стоило только взглянугь на ярлык, как сразу делалось понятно, что это за штука.'"
      ]
     },
     "execution_count": 163,
     "metadata": {},
     "output_type": "execute_result"
    }
   ],
   "source": [
    "rus_df.loc[136, \"chunk\"]"
   ]
  },
  {
   "cell_type": "code",
   "execution_count": 165,
   "id": "3e6b11bb-7018-4dcf-af19-58aa8568aafa",
   "metadata": {},
   "outputs": [
    {
     "data": {
      "text/plain": [
       "['Entonces las marcó con el nombre respectivo,',\n",
       " 'de modo que le bastaba con leer la inscripción para identificarlas .']"
      ]
     },
     "execution_count": 165,
     "metadata": {},
     "output_type": "execute_result"
    }
   ],
   "source": [
    "chunks_es[589:591]"
   ]
  },
  {
   "cell_type": "code",
   "execution_count": 170,
   "id": "9f682595-5b7e-4388-b6e3-48eca92a9ce2",
   "metadata": {},
   "outputs": [
    {
     "data": {
      "text/plain": [
       "np.float64(0.5540566195515938)"
      ]
     },
     "execution_count": 170,
     "metadata": {},
     "output_type": "execute_result"
    }
   ],
   "source": [
    "cosine_similarity(rus_df.loc[136, \"embedding\"], await get_embedding(\" \".join(chunks_es[589:591])))"
   ]
  },
  {
   "cell_type": "code",
   "execution_count": 188,
   "id": "601e1bd7-c97d-4b45-aecb-56d0c4cc6a15",
   "metadata": {},
   "outputs": [],
   "source": [
    "async def start_from(pointer, ru_chunk_index):\n",
    "    for (i, ru_embed) in enumerate(rus_df['embedding'][ru_chunk_index:], start=ru_chunk_index):\n",
    "        (es_chunk, new_pointer, score) = await get_matching_fragment(ru_embed, pointer)\n",
    "        retries = 0\n",
    "        while (score < 0.6) and (retries < 5):\n",
    "            print(f\"🔁 Retracing for fragment {i} | pointer {pointer} |️ {score}\")\n",
    "            pointer -= 1\n",
    "            (es_chunk, new_pointer, score) = await get_matching_fragment(ru_embed, pointer)\n",
    "            retries += 1\n",
    "        pointer += retries\n",
    "        retries = 0\n",
    "        while (score < 0.6) and (retries < 5):\n",
    "            print(f\"🔁 Retracing for fragment {i} | pointer {pointer} |️ {score}\")\n",
    "            pointer += 1\n",
    "            (es_chunk, new_pointer, score) = await get_matching_fragment(ru_embed, pointer)\n",
    "            retries += 1\n",
    "        if (score < 0.6):\n",
    "            rus_df.to_pickle(\"./merge/rus_df_matched.pkl\")\n",
    "            return pointer\n",
    "        pointer = new_pointer\n",
    "        rus_df.loc[i, \"match\"] = es_chunk\n",
    "        if i % 10 == 0:\n",
    "            rus_df.to_pickle(\"./merge/rus_df_matched.pkl\")\n",
    "            print(f\"✅ Data stored to file\")\n",
    "        print(f\"✅ fragment {i} |️ {score}\")"
   ]
  },
  {
   "cell_type": "code",
   "execution_count": 179,
   "id": "84aacc2f-f877-42a0-97ae-51f4776e2fbf",
   "metadata": {},
   "outputs": [],
   "source": [
    "rus_df.loc[136, \"match\"] = \" \".join(chunks_es[589:591])"
   ]
  },
  {
   "cell_type": "code",
   "execution_count": 180,
   "id": "cdbc553b-a963-443e-a1a8-ed568a2f79c4",
   "metadata": {},
   "outputs": [
    {
     "data": {
      "text/plain": [
       "'Entonces las marcó con el nombre respectivo, de modo que le bastaba con leer la inscripción para identificarlas .'"
      ]
     },
     "execution_count": 180,
     "metadata": {},
     "output_type": "execute_result"
    }
   ],
   "source": [
    "rus_df.loc[136, \"match\"]"
   ]
  },
  {
   "cell_type": "code",
   "execution_count": 182,
   "id": "6b7b0c4b-9456-4011-af47-f528b02a7907",
   "metadata": {},
   "outputs": [
    {
     "data": {
      "text/plain": [
       "['Когда отец с тревогой сказал ему, что забыл почти все, даже самые сильные впечатления детства, Аурелиано сообщил ему о своем методе, и Хосе Аркадио Буэндия стал навешивать ярлыки на все домашние вещи, а потом ввел эту практику и во всем городке.',\n",
       " 'Cuando su padre le comunicó su alarma por haber olvidado hasta los hechos más impresionantes de su niñez,']"
      ]
     },
     "execution_count": 182,
     "metadata": {},
     "output_type": "execute_result"
    }
   ],
   "source": [
    "[rus_df.loc[137, \"chunk\"], chunks_es[591]]"
   ]
  },
  {
   "cell_type": "code",
   "execution_count": 184,
   "id": "f69529cf-6ebd-4ee7-9134-1330788d868f",
   "metadata": {},
   "outputs": [],
   "source": [
    "pointer = 591"
   ]
  },
  {
   "cell_type": "code",
   "execution_count": 191,
   "id": "d5d79466-8bdb-4c2d-a965-12649ec8b17f",
   "metadata": {},
   "outputs": [
    {
     "name": "stdout",
     "output_type": "stream",
     "text": [
      "✅ fragment 137 |️ 0.8301769096299978\n",
      "✅ fragment 138 |️ 0.6725626270295503\n",
      "🔁 Retracing for fragment 139 | pointer 603 |️ 0.1667428216207925\n",
      "🔁 Retracing for fragment 139 | pointer 602 |️ 0.15794865924824872\n",
      "🔁 Retracing for fragment 139 | pointer 601 |️ 0.25359684721021236\n",
      "🔁 Retracing for fragment 139 | pointer 600 |️ 0.22418672706573123\n",
      "🔁 Retracing for fragment 139 | pointer 599 |️ 0.2555706660125172\n",
      "🔁 Retracing for fragment 139 | pointer 603 |️ 0.2675247307646622\n",
      "🔁 Retracing for fragment 139 | pointer 604 |️ 0.12015919138697674\n",
      "🔁 Retracing for fragment 139 | pointer 605 |️ 0.05846072897701642\n",
      "🔁 Retracing for fragment 139 | pointer 606 |️ 0.13907983781408062\n",
      "✅ fragment 139 |️ 0.6316412498424689\n",
      "🔁 Retracing for fragment 140 | pointer 611 |️ 0.29198690829683827\n",
      "✅ Data stored to file\n",
      "✅ fragment 140 |️ 0.7959809243475134\n",
      "✅ fragment 141 |️ 0.7591700049891225\n",
      "✅ fragment 142 |️ 0.8047103791646074\n",
      "✅ fragment 143 |️ 0.8100803129783722\n",
      "✅ fragment 144 |️ 0.6480599415390196\n",
      "✅ fragment 145 |️ 0.728814436947037\n",
      "✅ fragment 146 |️ 0.8824562834205049\n",
      "✅ fragment 147 |️ 0.7144906677991665\n",
      "✅ fragment 148 |️ 0.7796112324443761\n",
      "✅ fragment 149 |️ 0.6787615534915179\n",
      "✅ Data stored to file\n",
      "✅ fragment 150 |️ 0.6018897076096984\n",
      "🔁 Retracing for fragment 151 | pointer 650 |️ 0.5882371631356911\n",
      "✅ fragment 151 |️ 0.6182189884148249\n",
      "🔁 Retracing for fragment 152 | pointer 654 |️ 0.47733191278629067\n",
      "🔁 Retracing for fragment 152 | pointer 653 |️ 0.4990984183243698\n",
      "🔁 Retracing for fragment 152 | pointer 652 |️ 0.530252836121707\n",
      "🔁 Retracing for fragment 152 | pointer 651 |️ 0.4651078389243926\n",
      "🔁 Retracing for fragment 152 | pointer 650 |️ 0.46762214443006966\n",
      "🔁 Retracing for fragment 152 | pointer 654 |️ 0.4841134252233163\n",
      "🔁 Retracing for fragment 152 | pointer 655 |️ 0.5028708356774976\n",
      "🔁 Retracing for fragment 152 | pointer 656 |️ 0.4883497118262957\n",
      "🔁 Retracing for fragment 152 | pointer 657 |️ 0.38507302923000375\n",
      "🔁 Retracing for fragment 152 | pointer 658 |️ 0.3702342105640385\n"
     ]
    }
   ],
   "source": [
    "new_pointer = await start_from(591, 137)"
   ]
  },
  {
   "cell_type": "code",
   "execution_count": 215,
   "id": "63485dd9-940e-4fe5-9d1e-ac77d1b6a886",
   "metadata": {},
   "outputs": [
    {
     "data": {
      "text/plain": [
       "'Ослепительная вспышка радости увлажнила ему глаза слезами раньше, чем он увидел себя в идиотской комнате, где все вещи имели ярлычки с названиями; раньше, чем он устыдился всех благоглупостей, начертанных на стенах, и даже раньше, чем узнал пришедшего. А пришел Мелькиадес.'"
      ]
     },
     "execution_count": 215,
     "metadata": {},
     "output_type": "execute_result"
    }
   ],
   "source": [
    "rus_df.loc[156, \"chunk\"]"
   ]
  },
  {
   "cell_type": "code",
   "execution_count": 216,
   "id": "cd94156a-7b26-4e81-92e3-cbd782365e74",
   "metadata": {},
   "outputs": [
    {
     "data": {
      "text/plain": [
       "[(0, 'no con el olvido remediable del corazón,'),\n",
       " (1, 'sino con otro olvido más cruel e irrevocable que él conocía muy bien,'),\n",
       " (2, 'porque era el olvido de la muerte .'),\n",
       " (3, 'Entonces comprendió .'),\n",
       " (4, 'Abrió la maleta atiborrada de objetos indescifrables,'),\n",
       " (5, 'y de entre ellos sacó un maletín con muchos frascos .'),\n",
       " (6, 'Le dio a beber a José Arcadio Buendía una sustancia de color apacible,'),\n",
       " (7, 'y la luz se hizo en su memoria .'),\n",
       " (8, 'Los ojos se le humedecieron de llanto,'),\n",
       " (9,\n",
       "  'antes de verse a sí rnismo en una sala absurda donde los objetos estaban marcados,'),\n",
       " (10,\n",
       "  'y antes de avergonzarse de las solemnes tonterías escritas en las paredes,'),\n",
       " (11,\n",
       "  'y aun antes de reconocer al recién llegado en un deslumbrante resplandor de alegría .'),\n",
       " (12, 'Era Melquíades .'),\n",
       " (13, 'Mientras Macondo celebraba la reconquista de los recuerdos,'),\n",
       " (14,\n",
       "  'José Arcadio Buendía y Melquíades le sacudieron el polvo a su vieja amistad .'),\n",
       " (15, 'EI gitano iba dispuesto a quedarse en el pueblo .'),\n",
       " (16, 'Había estado en la muerte,'),\n",
       " (17, 'en efecto,'),\n",
       " (18, 'pero había regresado porque no pudo soportar la soledad .'),\n",
       " (19, 'Repudiado por su tribu,'),\n",
       " (20,\n",
       "  'desprovisto de toda facultad sobrenatural como castigo por su fidelidad a la vida,'),\n",
       " (21,\n",
       "  'decidió refugiarse en aquel rincón del mundo todavía no descubierto por la muerte,'),\n",
       " (22, 'dedicado a la explotación de un laboratorio de daguerrotipia .'),\n",
       " (23, 'José Arcadio Buendía no había oído hablar nunca de ese invento .'),\n",
       " (24,\n",
       "  'Pero cuando se vio a sí mismo y a toda su familia plasmados en una edad eterna sobre una lámina de metal tornasol,'),\n",
       " (25, 'se quedó mudo de estupor .'),\n",
       " (26,\n",
       "  'De esa época databa el oxidado daguerrotipo en el que apareció José Arcadio Buendía con el pelo erizado y ceniciento,'),\n",
       " (27,\n",
       "  'el acartonado cuello de la camisa prendido con un botón de cobre y una expresión de solernnidad asombrada,'),\n",
       " (28, 'y que Úrsula describía muerta de risa como « un general asustado » .'),\n",
       " (29, 'En verdad,')]"
      ]
     },
     "execution_count": 216,
     "metadata": {},
     "output_type": "execute_result"
    }
   ],
   "source": [
    "[c for c in enumerate(chunks_es[654:684])]"
   ]
  },
  {
   "cell_type": "code",
   "execution_count": 218,
   "id": "b0a59401-2526-4df2-826d-5106be1ffb70",
   "metadata": {},
   "outputs": [
    {
     "data": {
      "text/plain": [
       "['Ослепительная вспышка радости увлажнила ему глаза слезами раньше, чем он увидел себя в идиотской комнате, где все вещи имели ярлычки с названиями; раньше, чем он устыдился всех благоглупостей, начертанных на стенах, и даже раньше, чем узнал пришедшего. А пришел Мелькиадес.',\n",
       " 'Los ojos se le humedecieron de llanto,']"
      ]
     },
     "execution_count": 218,
     "metadata": {},
     "output_type": "execute_result"
    }
   ],
   "source": [
    "[rus_df.loc[156, \"chunk\"], chunks_es[662]]"
   ]
  },
  {
   "cell_type": "code",
   "execution_count": 219,
   "id": "3be7a404-d7c3-431f-8f63-414f4c0baafa",
   "metadata": {},
   "outputs": [
    {
     "name": "stdout",
     "output_type": "stream",
     "text": [
      "✅ fragment 156 |️ 0.84126885381759\n",
      "✅ fragment 157 |️ 0.8739175452208883\n",
      "✅ fragment 158 |️ 0.7138172942856245\n",
      "✅ fragment 159 |️ 0.7460890560489518\n",
      "✅ Data stored to file\n",
      "✅ fragment 160 |️ 0.7994870370463891\n",
      "✅ fragment 161 |️ 0.7868204318395056\n",
      "✅ fragment 162 |️ 0.6363919186608169\n",
      "✅ fragment 163 |️ 0.8504959677150539\n",
      "✅ fragment 164 |️ 0.7710934526607249\n",
      "✅ fragment 165 |️ 0.8188025506409532\n",
      "✅ fragment 166 |️ 0.7091167693915742\n",
      "✅ fragment 167 |️ 0.7137345840336297\n",
      "✅ fragment 168 |️ 0.8363806562396285\n",
      "✅ fragment 169 |️ 0.877046839664372\n",
      "✅ Data stored to file\n",
      "✅ fragment 170 |️ 0.7699487747638002\n",
      "✅ fragment 171 |️ 0.7350295990446368\n",
      "✅ fragment 172 |️ 0.8413517509722384\n",
      "✅ fragment 173 |️ 0.8186312329999182\n",
      "✅ fragment 174 |️ 0.7657661346913919\n",
      "✅ fragment 175 |️ 0.8024177944183715\n",
      "✅ fragment 176 |️ 0.7563025870696723\n",
      "🔁 Retracing for fragment 177 | pointer 736 |️ 0.5346732338505763\n",
      "✅ fragment 177 |️ 0.605843706024766\n",
      "✅ fragment 178 |️ 0.8206607889941836\n",
      "✅ fragment 179 |️ 0.8013018732072053\n",
      "✅ Data stored to file\n",
      "✅ fragment 180 |️ 0.8607971377809458\n",
      "✅ fragment 181 |️ 0.604968376136873\n",
      "✅ fragment 182 |️ 0.6338748333904114\n",
      "✅ fragment 183 |️ 0.6453869069586537\n",
      "✅ fragment 184 |️ 0.8533795215287427\n",
      "✅ fragment 185 |️ 0.7644761486470785\n",
      "✅ fragment 186 |️ 0.8616776059879429\n",
      "✅ fragment 187 |️ 0.8432203730990901\n",
      "✅ fragment 188 |️ 0.8077441562951625\n",
      "✅ fragment 189 |️ 0.8521759563356366\n",
      "✅ Data stored to file\n",
      "✅ fragment 190 |️ 0.8534741552088839\n",
      "✅ fragment 191 |️ 0.711351722629934\n",
      "✅ fragment 192 |️ 0.7013606236301724\n",
      "✅ fragment 193 |️ 0.8075182788433235\n",
      "✅ fragment 194 |️ 0.6719426867065466\n",
      "✅ fragment 195 |️ 0.6802770857468928\n",
      "✅ fragment 196 |️ 0.7732771265550593\n",
      "🔁 Retracing for fragment 197 | pointer 835 |️ 0.5977251858663742\n",
      "✅ fragment 197 |️ 0.7433803392384386\n",
      "✅ fragment 198 |️ 0.7190165070807331\n",
      "✅ fragment 199 |️ 0.8266836497802361\n",
      "✅ Data stored to file\n",
      "✅ fragment 200 |️ 0.631299509636735\n",
      "✅ fragment 201 |️ 0.6584785653568852\n",
      "✅ fragment 202 |️ 0.7672274722481005\n",
      "✅ fragment 203 |️ 0.8706228929021905\n",
      "✅ fragment 204 |️ 0.87083769999641\n",
      "✅ fragment 205 |️ 0.8507789957265862\n",
      "✅ fragment 206 |️ 0.8282679448107055\n",
      "✅ fragment 207 |️ 0.8567272170640297\n",
      "✅ fragment 208 |️ 0.7743836596152593\n",
      "🔁 Retracing for fragment 209 | pointer 888 |️ 0.545341039873151\n",
      "✅ fragment 209 |️ 0.6160026582406136\n",
      "🔁 Retracing for fragment 210 | pointer 898 |️ 0.47384651435686803\n",
      "🔁 Retracing for fragment 210 | pointer 897 |️ 0.4965449076867218\n",
      "🔁 Retracing for fragment 210 | pointer 896 |️ 0.596413689558358\n",
      "✅ Data stored to file\n",
      "✅ fragment 210 |️ 0.7226326465229579\n",
      "✅ fragment 211 |️ 0.7542408818548215\n",
      "✅ fragment 212 |️ 0.7694182384184256\n",
      "✅ fragment 213 |️ 0.8528971521535292\n",
      "✅ fragment 214 |️ 0.7248357268038808\n",
      "✅ fragment 215 |️ 0.797023012203424\n",
      "✅ fragment 216 |️ 0.815939726332841\n",
      "🔁 Retracing for fragment 217 | pointer 929 |️ 0.49771557201130745\n",
      "✅ fragment 217 |️ 0.7688945790667254\n",
      "🔁 Retracing for fragment 218 | pointer 934 |️ 0.5793930637124786\n",
      "🔁 Retracing for fragment 218 | pointer 933 |️ 0.5145069430633228\n",
      "🔁 Retracing for fragment 218 | pointer 932 |️ 0.4028672308972917\n",
      "🔁 Retracing for fragment 218 | pointer 931 |️ 0.3735494170385515\n",
      "🔁 Retracing for fragment 218 | pointer 930 |️ 0.398066808753056\n",
      "🔁 Retracing for fragment 218 | pointer 934 |️ 0.4487806845617024\n",
      "🔁 Retracing for fragment 218 | pointer 935 |️ 0.4338777831362515\n",
      "🔁 Retracing for fragment 218 | pointer 936 |️ 0.47779705508691384\n",
      "🔁 Retracing for fragment 218 | pointer 937 |️ 0.34464398787569295\n",
      "🔁 Retracing for fragment 218 | pointer 938 |️ 0.38322722544876225\n"
     ]
    }
   ],
   "source": [
    "pointer = await start_from(662, 156)"
   ]
  },
  {
   "cell_type": "code",
   "execution_count": 220,
   "id": "8cda9a38-afad-497c-9d59-efe06a0f9cf0",
   "metadata": {},
   "outputs": [
    {
     "data": {
      "text/plain": [
       "'— В этом городе мы обходимся без бумаг, — сказал он, не теряя присутствия духа. — Зарубите себе на носу: нам не нужен никакой управитель, мы сами прекрасно здесь управляемся.'"
      ]
     },
     "execution_count": 220,
     "metadata": {},
     "output_type": "execute_result"
    }
   ],
   "source": [
    "rus_df.loc[218, \"chunk\"]"
   ]
  },
  {
   "cell_type": "code",
   "execution_count": 222,
   "id": "9a507198-d4c5-4101-8964-da4d279863b2",
   "metadata": {},
   "outputs": [
    {
     "data": {
      "text/plain": [
       "'— En este pueblo no mandamos con papeles — dijo sin perder la calma — . Y para que 10 sepa de una vez, no necesitamos ningún corregidor porque aquí no hay nada que corregir .'"
      ]
     },
     "execution_count": 222,
     "metadata": {},
     "output_type": "execute_result"
    }
   ],
   "source": [
    "\" \".join(chunks_es[934:937])"
   ]
  },
  {
   "cell_type": "code",
   "execution_count": 223,
   "id": "b6e4c53e-13d4-4c85-b378-d6f3d538f1c2",
   "metadata": {},
   "outputs": [
    {
     "data": {
      "text/plain": [
       "np.float64(0.5767228447939377)"
      ]
     },
     "execution_count": 223,
     "metadata": {},
     "output_type": "execute_result"
    }
   ],
   "source": [
    "cosine_similarity(rus_df.loc[218, \"embedding\"], await get_embedding(\" \".join(chunks_es[934:937])))"
   ]
  },
  {
   "cell_type": "code",
   "execution_count": 232,
   "id": "76b2541f-9722-48ad-9e8f-12af06889222",
   "metadata": {},
   "outputs": [],
   "source": [
    "rus_df.loc[218, \"match\"] = \" \".join(chunks_es[934:937])"
   ]
  },
  {
   "cell_type": "code",
   "execution_count": 249,
   "id": "e5c39b61-eded-451a-aede-dd4f88f4f16a",
   "metadata": {},
   "outputs": [],
   "source": [
    "rus_df.loc[218, \"chunk\"] = backup_df.loc[218, \"chunk\"]"
   ]
  },
  {
   "cell_type": "code",
   "execution_count": 229,
   "id": "84c25bf9-d715-460a-b27f-b324826cb98c",
   "metadata": {},
   "outputs": [
    {
     "data": {
      "text/plain": [
       "['Ante la impavidez de don Apolinar Moscote,',\n",
       " 'siempre sin levantar la voz,',\n",
       " 'hizo un pormenorizado recuento de cómo habían fundado la aldea,',\n",
       " 'de cómo se habían repartido la tierra,',\n",
       " 'abierto los caminos e introducido las mejoras que les había ido exigiendo la necesidad,',\n",
       " 'sin haber molestado a gobierno alguno y sin que nadie los molestara .']"
      ]
     },
     "execution_count": 229,
     "metadata": {},
     "output_type": "execute_result"
    }
   ],
   "source": [
    "chunks_es[937:943]"
   ]
  },
  {
   "cell_type": "code",
   "execution_count": 237,
   "id": "db0aeba8-7174-4a21-bcfd-5117ce86ec7d",
   "metadata": {},
   "outputs": [],
   "source": [
    "rus_df.loc[219, \"match\"] = \" \".join(chunks_es[937:943])"
   ]
  },
  {
   "cell_type": "code",
   "execution_count": 251,
   "id": "72da0d1f-349d-43c6-9969-b7f6cf866b4e",
   "metadata": {},
   "outputs": [
    {
     "data": {
      "text/plain": [
       "chunk          И Хосе Аркадио Буэндия, глядя на невозмутимого...\n",
       "translation    Y José Arkadio Buendy, mirando el Muscovite Do...\n",
       "embedding      [0.054191216826438904, 0.005699383094906807, 0...\n",
       "match          Ante la impavidez de don Apolinar Moscote, sie...\n",
       "Name: 219, dtype: object"
      ]
     },
     "execution_count": 251,
     "metadata": {},
     "output_type": "execute_result"
    }
   ],
   "source": [
    "rus_df.loc[219]"
   ]
  },
  {
   "cell_type": "code",
   "execution_count": 241,
   "id": "a1abb0d1-ba7d-4546-93a2-ce9349d54757",
   "metadata": {},
   "outputs": [],
   "source": [
    "backup_df = pd.read_pickle(\"./merge/rus_df.pkl\")"
   ]
  },
  {
   "cell_type": "code",
   "execution_count": 252,
   "id": "c91c6939-cf5a-4f54-8fd6-bd660367b72a",
   "metadata": {},
   "outputs": [
    {
     "data": {
      "text/plain": [
       "'«Мы живем столь тихо и мирно, что даже смерть нас стороной обходит, — сказал он. — вы сами видите, что тут нет кладбища». На правительство он обиды не держит за то, что им не помогли.'"
      ]
     },
     "execution_count": 252,
     "metadata": {},
     "output_type": "execute_result"
    }
   ],
   "source": [
    "rus_df.loc[220, \"chunk\"]"
   ]
  },
  {
   "cell_type": "code",
   "execution_count": 254,
   "id": "a6c4ba8e-5e36-4f43-8b68-0aeaa43ca010",
   "metadata": {},
   "outputs": [
    {
     "data": {
      "text/plain": [
       "['« Somos tan pacíficos que ni siquiera nos hemos muerto de muerte natural »,',\n",
       " 'dijo .',\n",
       " '« Ya ve que todavía no tenernos cementerio .',\n",
       " '» No se dolió de que el gobierno no los hubiera ayudado .',\n",
       " 'Al contrario,',\n",
       " 'se alegraba de que hasta entonces los hubiera dejado crecer en paz,',\n",
       " 'y esperaba que así los siguiera dejando,',\n",
       " 'porque ellos no habían fundado un pueblo para que el primer advenedizo les fuera a decir 10 que debían hacer .',\n",
       " 'Don Apolinar Moscote se había puesto un saco de dril,',\n",
       " 'blanco como sus pantalones,']"
      ]
     },
     "execution_count": 254,
     "metadata": {},
     "output_type": "execute_result"
    }
   ],
   "source": [
    "chunks_es[943:953]"
   ]
  },
  {
   "cell_type": "code",
   "execution_count": 255,
   "id": "3423c008-a992-489a-a5b8-b3e065f3b480",
   "metadata": {},
   "outputs": [
    {
     "name": "stdout",
     "output_type": "stream",
     "text": [
      "✅ Data stored to file\n",
      "✅ fragment 220 |️ 0.8316591321946442\n",
      "🔁 Retracing for fragment 221 | pointer 947 |️ 0.43276087748417413\n",
      "🔁 Retracing for fragment 221 | pointer 946 |️ 0.4526499407240603\n",
      "🔁 Retracing for fragment 221 | pointer 945 |️ 0.4492925332578794\n",
      "🔁 Retracing for fragment 221 | pointer 944 |️ 0.462957299060328\n",
      "🔁 Retracing for fragment 221 | pointer 943 |️ 0.4380571279731144\n",
      "🔁 Retracing for fragment 221 | pointer 947 |️ 0.3832808232319134\n",
      "🔁 Retracing for fragment 221 | pointer 948 |️ 0.4198677839811001\n",
      "🔁 Retracing for fragment 221 | pointer 949 |️ 0.45429494401236886\n",
      "🔁 Retracing for fragment 221 | pointer 950 |️ 0.36757211517546723\n",
      "🔁 Retracing for fragment 221 | pointer 951 |️ 0.22127622875664194\n"
     ]
    }
   ],
   "source": [
    "pointer = await start_from(943, 220)"
   ]
  },
  {
   "cell_type": "code",
   "execution_count": 256,
   "id": "9803b289-62b2-47f0-bb8d-95071a041886",
   "metadata": {},
   "outputs": [
    {
     "data": {
      "text/plain": [
       "'Напротив, очень доволен тем, что до сих пор никто не вставлял палки в колеса и что впредь так оно и будет, потому как они основали город не для того, чтобы первый пришлый указывал им, за какие браться дела.'"
      ]
     },
     "execution_count": 256,
     "metadata": {},
     "output_type": "execute_result"
    }
   ],
   "source": [
    "rus_df.loc[221, \"chunk\"]"
   ]
  },
  {
   "cell_type": "code",
   "execution_count": 259,
   "id": "2c89d6e7-4c42-494f-9b12-ed8c12302c03",
   "metadata": {},
   "outputs": [
    {
     "data": {
      "text/plain": [
       "'Al contrario, se alegraba de que hasta entonces los hubiera dejado crecer en paz, y esperaba que así los siguiera dejando, porque ellos no habían fundado un pueblo para que el primer advenedizo les fuera a decir 10 que debían hacer .'"
      ]
     },
     "execution_count": 259,
     "metadata": {},
     "output_type": "execute_result"
    }
   ],
   "source": [
    "\" \".join(chunks_es[947:951])"
   ]
  },
  {
   "cell_type": "code",
   "execution_count": 260,
   "id": "be37619a-6699-460d-a91e-bc38ef39d6ee",
   "metadata": {},
   "outputs": [
    {
     "data": {
      "text/plain": [
       "np.float64(0.46224171513347845)"
      ]
     },
     "execution_count": 260,
     "metadata": {},
     "output_type": "execute_result"
    }
   ],
   "source": [
    "cosine_similarity(rus_df.loc[221, \"embedding\"], await get_embedding(\" \".join(chunks_es[947:951])))"
   ]
  },
  {
   "cell_type": "code",
   "execution_count": 261,
   "id": "c19355e3-66f9-4a8f-86f0-337edaea624a",
   "metadata": {},
   "outputs": [
    {
     "data": {
      "text/plain": [
       "['Por el contrario, estoy muy contento de que hasta ahora nadie haya insertado palos en las ruedas y que continúe así, porque encontraron la ciudad no para que el primer periódico les mostrara qué tipo de asuntos asumir.',\n",
       " 'Al contrario, se alegraba de que hasta entonces los hubiera dejado crecer en paz, y esperaba que así los siguiera dejando, porque ellos no habían fundado un pueblo para que el primer advenedizo les fuera a decir 10 que debían hacer .']"
      ]
     },
     "execution_count": 261,
     "metadata": {},
     "output_type": "execute_result"
    }
   ],
   "source": [
    "[rus_df.loc[221, \"translation\"], \" \".join(chunks_es[947:951])]"
   ]
  },
  {
   "cell_type": "code",
   "execution_count": 262,
   "id": "74d67751-85c7-41d5-ba8a-58d128df6fda",
   "metadata": {},
   "outputs": [],
   "source": [
    "rus_df.loc[221, \"match\"] = \" \".join(chunks_es[947:951])"
   ]
  },
  {
   "cell_type": "code",
   "execution_count": 266,
   "id": "3470415c-e897-412b-87fd-ae57881e6805",
   "metadata": {},
   "outputs": [
    {
     "data": {
      "text/plain": [
       "'Дон Аполинар Москоте аккуратно влез в рукава полотняного кителя, белого, как и брюки, и тщательно застегнулся. — Так что, если вы желаете здесь остаться и жить, как живут обычные нормальные люди, милости просим, — закончил Хосе Аркадио Буэндия.'"
      ]
     },
     "execution_count": 266,
     "metadata": {},
     "output_type": "execute_result"
    }
   ],
   "source": [
    "rus_df.loc[222, \"chunk\"]"
   ]
  },
  {
   "cell_type": "code",
   "execution_count": 268,
   "id": "4ca1ec53-ae8e-49f3-a7d1-e45f72e51c52",
   "metadata": {},
   "outputs": [
    {
     "name": "stdout",
     "output_type": "stream",
     "text": [
      "✅ fragment 222 |️ 0.7374092794010507\n",
      "✅ fragment 223 |️ 0.8353431279319482\n",
      "✅ fragment 224 |️ 0.8376013208406766\n",
      "✅ fragment 225 |️ 0.6612123398270768\n",
      "✅ fragment 226 |️ 0.7399253944601267\n",
      "✅ fragment 227 |️ 0.6126009909791045\n",
      "✅ fragment 228 |️ 0.6784404700813653\n",
      "✅ fragment 229 |️ 0.7894329062859442\n",
      "✅ Data stored to file\n",
      "✅ fragment 230 |️ 0.8983466511375552\n",
      "✅ fragment 231 |️ 0.7170314292878094\n",
      "✅ fragment 232 |️ 0.8156426599580765\n",
      "🔁 Retracing for fragment 233 | pointer 1009 |️ 0.39803090835436683\n",
      "🔁 Retracing for fragment 233 | pointer 1008 |️ 0.44738740810456845\n",
      "🔁 Retracing for fragment 233 | pointer 1007 |️ 0.45715926962550885\n",
      "🔁 Retracing for fragment 233 | pointer 1006 |️ 0.42388780386512026\n",
      "🔁 Retracing for fragment 233 | pointer 1005 |️ 0.4683768214450446\n",
      "🔁 Retracing for fragment 233 | pointer 1009 |️ 0.4820842897003066\n",
      "✅ fragment 233 |️ 0.773265037114969\n",
      "✅ fragment 234 |️ 0.8160662713995487\n",
      "✅ fragment 235 |️ 0.6952131839288181\n",
      "✅ fragment 236 |️ 0.7356238391137593\n",
      "✅ fragment 237 |️ 0.7140348500102778\n",
      "✅ fragment 238 |️ 0.7599162306541063\n",
      "✅ fragment 239 |️ 0.7987964398540901\n",
      "✅ Data stored to file\n",
      "✅ fragment 240 |️ 0.7403376406546145\n",
      "✅ fragment 241 |️ 0.6905629804447457\n",
      "✅ fragment 242 |️ 0.8862231831173037\n",
      "✅ fragment 243 |️ 0.7766700051198355\n",
      "🔁 Retracing for fragment 244 | pointer 1069 |️ 0.38847682036803166\n",
      "🔁 Retracing for fragment 244 | pointer 1068 |️ 0.4986751537732875\n",
      "🔁 Retracing for fragment 244 | pointer 1067 |️ 0.510706681343334\n",
      "✅ fragment 244 |️ 0.6065927704616211\n",
      "✅ fragment 245 |️ 0.6639653768316557\n",
      "🔁 Retracing for fragment 246 | pointer 1073 |️ 0.37228943329909275\n",
      "🔁 Retracing for fragment 246 | pointer 1072 |️ 0.3788847698526042\n",
      "🔁 Retracing for fragment 246 | pointer 1071 |️ 0.34460963266029127\n",
      "🔁 Retracing for fragment 246 | pointer 1070 |️ 0.34986248586364915\n",
      "🔁 Retracing for fragment 246 | pointer 1069 |️ 0.24711456547978633\n",
      "🔁 Retracing for fragment 246 | pointer 1073 |️ 0.4140812466883811\n",
      "🔁 Retracing for fragment 246 | pointer 1074 |️ 0.3566922900574522\n",
      "🔁 Retracing for fragment 246 | pointer 1075 |️ 0.33788775242715374\n",
      "✅ fragment 246 |️ 0.6388136199833929\n",
      "✅ fragment 247 |️ 0.7523762308304244\n",
      "✅ fragment 248 |️ 0.7895340859694475\n",
      "✅ fragment 249 |️ 0.8365445867714659\n",
      "✅ Data stored to file\n",
      "✅ fragment 250 |️ 0.8054953141324209\n",
      "✅ fragment 251 |️ 0.8093474655813766\n",
      "✅ fragment 252 |️ 0.6984500173055845\n",
      "🔁 Retracing for fragment 253 | pointer 1111 |️ 0.565296328057181\n",
      "🔁 Retracing for fragment 253 | pointer 1110 |️ 0.3306502512112463\n",
      "🔁 Retracing for fragment 253 | pointer 1109 |️ 0.38381727195759624\n",
      "🔁 Retracing for fragment 253 | pointer 1108 |️ 0.5319434300004685\n",
      "🔁 Retracing for fragment 253 | pointer 1107 |️ 0.3830830779172442\n",
      "🔁 Retracing for fragment 253 | pointer 1111 |️ 0.36606875153642726\n",
      "✅ fragment 253 |️ 0.6682500960691686\n",
      "✅ fragment 254 |️ 0.7962355141932281\n",
      "✅ fragment 255 |️ 0.7244900631012767\n",
      "✅ fragment 256 |️ 0.7217042510506255\n",
      "✅ fragment 257 |️ 0.7175735807395589\n",
      "✅ fragment 258 |️ 0.6921741261218303\n",
      "🔁 Retracing for fragment 259 | pointer 1145 |️ 0.5956172049432941\n",
      "🔁 Retracing for fragment 259 | pointer 1144 |️ 0.5552309948416028\n",
      "✅ fragment 259 |️ 0.7978496318959669\n",
      "✅ Data stored to file\n",
      "✅ fragment 260 |️ 0.8165470783606886\n",
      "✅ fragment 261 |️ 0.7859284998314346\n",
      "✅ fragment 262 |️ 0.6191984615187259\n",
      "✅ fragment 263 |️ 0.7210670610197837\n",
      "✅ fragment 264 |️ 0.7803712843412037\n",
      "✅ fragment 265 |️ 0.8147020587941847\n",
      "✅ fragment 266 |️ 0.6970308434879489\n",
      "✅ fragment 267 |️ 0.7603003514239877\n",
      "✅ fragment 268 |️ 0.7666063580140781\n",
      "🔁 Retracing for fragment 269 | pointer 1186 |️ 0.28831678680234746\n",
      "✅ fragment 269 |️ 0.6021771275122574\n",
      "✅ Data stored to file\n",
      "✅ fragment 270 |️ 0.757225028338944\n",
      "✅ fragment 271 |️ 0.7284318956366073\n",
      "✅ fragment 272 |️ 0.8106166473712573\n",
      "✅ fragment 273 |️ 0.7387545072135685\n",
      "✅ fragment 274 |️ 0.7672205488684329\n",
      "✅ fragment 275 |️ 0.6994799691073116\n",
      "✅ fragment 276 |️ 0.7259183892842611\n",
      "🔁 Retracing for fragment 277 | pointer 1219 |️ 0.2778524133566914\n",
      "✅ fragment 277 |️ 0.7378166691368466\n",
      "✅ fragment 278 |️ 0.7925558053163461\n",
      "✅ fragment 279 |️ 0.8064595925197907\n",
      "✅ Data stored to file\n",
      "✅ fragment 280 |️ 0.8080757560805868\n",
      "✅ fragment 281 |️ 0.7942064431879057\n",
      "✅ fragment 282 |️ 0.8546146936499386\n",
      "✅ fragment 283 |️ 0.8334743892259021\n",
      "✅ fragment 284 |️ 0.8094527902029188\n",
      "✅ fragment 285 |️ 0.8620687765699647\n",
      "✅ fragment 286 |️ 0.8283803761793478\n",
      "✅ fragment 287 |️ 0.7431421492212102\n",
      "✅ fragment 288 |️ 0.8075611088311035\n",
      "✅ fragment 289 |️ 0.6884430770261067\n",
      "🔁 Retracing for fragment 290 | pointer 1287 |️ 0.2659351811969189\n",
      "🔁 Retracing for fragment 290 | pointer 1286 |️ 0.30889555475534175\n",
      "🔁 Retracing for fragment 290 | pointer 1285 |️ 0.37832370213403066\n",
      "🔁 Retracing for fragment 290 | pointer 1284 |️ 0.4012272442972061\n",
      "🔁 Retracing for fragment 290 | pointer 1283 |️ 0.4099101110850792\n",
      "🔁 Retracing for fragment 290 | pointer 1287 |️ 0.4264653194242682\n",
      "✅ Data stored to file\n",
      "✅ fragment 290 |️ 0.6772134432085507\n",
      "✅ fragment 291 |️ 0.7669530395697233\n",
      "🔁 Retracing for fragment 292 | pointer 1298 |️ 0.3779009141607276\n",
      "🔁 Retracing for fragment 292 | pointer 1297 |️ 0.3831617814627599\n",
      "🔁 Retracing for fragment 292 | pointer 1296 |️ 0.43220554122161464\n",
      "🔁 Retracing for fragment 292 | pointer 1295 |️ 0.37078371439435254\n",
      "🔁 Retracing for fragment 292 | pointer 1294 |️ 0.2117965309471014\n",
      "🔁 Retracing for fragment 292 | pointer 1298 |️ 0.3419294475535971\n",
      "🔁 Retracing for fragment 292 | pointer 1299 |️ 0.33825190173638653\n",
      "🔁 Retracing for fragment 292 | pointer 1300 |️ 0.3149656583782941\n",
      "✅ fragment 292 |️ 0.6764223739092813\n",
      "✅ fragment 293 |️ 0.6656565437480425\n",
      "✅ fragment 294 |️ 0.8739084980897369\n",
      "✅ fragment 295 |️ 0.8223945823200862\n",
      "✅ fragment 296 |️ 0.7649690206244788\n",
      "✅ fragment 297 |️ 0.7980296619296411\n",
      "✅ fragment 298 |️ 0.8843074905918809\n",
      "✅ fragment 299 |️ 0.7402831732484034\n",
      "✅ Data stored to file\n",
      "✅ fragment 300 |️ 0.7682873770501902\n",
      "✅ fragment 301 |️ 0.8305775496777971\n",
      "✅ fragment 302 |️ 0.7652750531390635\n",
      "✅ fragment 303 |️ 0.6445386903920323\n",
      "✅ fragment 304 |️ 0.7670604216496005\n",
      "✅ fragment 305 |️ 0.6399306123812106\n",
      "✅ fragment 306 |️ 0.7598920493216285\n",
      "✅ fragment 307 |️ 0.6789772117712489\n",
      "✅ fragment 308 |️ 0.8581722299599654\n",
      "✅ fragment 309 |️ 0.8213440918113362\n",
      "✅ Data stored to file\n",
      "✅ fragment 310 |️ 0.8057770381478144\n",
      "✅ fragment 311 |️ 0.7273125948103925\n",
      "✅ fragment 312 |️ 0.8560692878846288\n",
      "✅ fragment 313 |️ 0.8328384092344101\n",
      "✅ fragment 314 |️ 0.82885674169035\n",
      "✅ fragment 315 |️ 0.6945570964347946\n",
      "✅ fragment 316 |️ 0.795440331533085\n",
      "✅ fragment 317 |️ 0.8459209963821797\n",
      "✅ fragment 318 |️ 0.7604294031975909\n",
      "🔁 Retracing for fragment 319 | pointer 1431 |️ 0.5305141350711813\n",
      "🔁 Retracing for fragment 319 | pointer 1430 |️ 0.5665067222510537\n",
      "🔁 Retracing for fragment 319 | pointer 1429 |️ 0.5621631337426704\n",
      "🔁 Retracing for fragment 319 | pointer 1428 |️ 0.407034846819102\n",
      "🔁 Retracing for fragment 319 | pointer 1427 |️ 0.5716925754205271\n",
      "🔁 Retracing for fragment 319 | pointer 1431 |️ 0.3533584907079122\n",
      "🔁 Retracing for fragment 319 | pointer 1432 |️ 0.45415860565324045\n",
      "✅ fragment 319 |️ 0.7596005515756362\n",
      "🔁 Retracing for fragment 320 | pointer 1443 |️ 0.37618482965313965\n",
      "🔁 Retracing for fragment 320 | pointer 1442 |️ 0.45863814397548275\n",
      "🔁 Retracing for fragment 320 | pointer 1441 |️ 0.5614655897009181\n",
      "✅ Data stored to file\n",
      "✅ fragment 320 |️ 0.6994376759812918\n",
      "✅ fragment 321 |️ 0.7314888612979922\n",
      "✅ fragment 322 |️ 0.7055551302335435\n",
      "✅ fragment 323 |️ 0.8377090531574067\n",
      "✅ fragment 324 |️ 0.7799825141181586\n",
      "🔁 Retracing for fragment 325 | pointer 1459 |️ 0.5672114942028791\n",
      "🔁 Retracing for fragment 325 | pointer 1458 |️ 0.26523864312669293\n",
      "🔁 Retracing for fragment 325 | pointer 1457 |️ 0.3282790584518546\n",
      "🔁 Retracing for fragment 325 | pointer 1456 |️ 0.5508429288049582\n",
      "🔁 Retracing for fragment 325 | pointer 1455 |️ 0.3565587440522484\n",
      "🔁 Retracing for fragment 325 | pointer 1459 |️ 0.3720717828415915\n",
      "✅ fragment 325 |️ 0.686149724476227\n",
      "✅ fragment 326 |️ 0.6586431549690444\n",
      "✅ fragment 327 |️ 0.7210282291433773\n",
      "✅ fragment 328 |️ 0.767035866710311\n",
      "✅ fragment 329 |️ 0.8007345898006918\n",
      "✅ Data stored to file\n",
      "✅ fragment 330 |️ 0.8361710212352028\n",
      "✅ fragment 331 |️ 0.8392174744487804\n",
      "✅ fragment 332 |️ 0.8404495257750597\n",
      "🔁 Retracing for fragment 333 | pointer 1497 |️ 0.31060838965681636\n",
      "🔁 Retracing for fragment 333 | pointer 1496 |️ 0.44914301679141\n",
      "✅ fragment 333 |️ 0.7877750344090733\n",
      "🔁 Retracing for fragment 334 | pointer 1503 |️ 0.4695504845230287\n",
      "✅ fragment 334 |️ 0.6762127461537659\n",
      "✅ fragment 335 |️ 0.761020170365042\n",
      "✅ fragment 336 |️ 0.8716369324559119\n",
      "✅ fragment 337 |️ 0.686475493061316\n",
      "✅ fragment 338 |️ 0.7478222153667324\n",
      "✅ fragment 339 |️ 0.8135294921507186\n",
      "✅ Data stored to file\n",
      "✅ fragment 340 |️ 0.6242231016789594\n",
      "✅ fragment 341 |️ 0.7262544080917089\n",
      "✅ fragment 342 |️ 0.849554437314871\n",
      "✅ fragment 343 |️ 0.764573082755489\n",
      "✅ fragment 344 |️ 0.8071291089861289\n",
      "✅ fragment 345 |️ 0.7826498617300579\n",
      "✅ fragment 346 |️ 0.8456266025351877\n",
      "✅ fragment 347 |️ 0.7348382877341443\n",
      "✅ fragment 348 |️ 0.8361755116147239\n",
      "✅ fragment 349 |️ 0.7474057029645859\n",
      "✅ Data stored to file\n",
      "✅ fragment 350 |️ 0.8513796390283902\n",
      "✅ fragment 351 |️ 0.8007898890837281\n",
      "✅ fragment 352 |️ 0.9087917327176954\n",
      "✅ fragment 353 |️ 0.7411659488842071\n",
      "✅ fragment 354 |️ 0.8017633111733025\n",
      "✅ fragment 355 |️ 0.882572596427447\n",
      "✅ fragment 356 |️ 0.8666770613179781\n",
      "🔁 Retracing for fragment 357 | pointer 1606 |️ 0.5542159001680936\n",
      "✅ fragment 357 |️ 0.7170134655838726\n",
      "✅ fragment 358 |️ 0.6909397523370687\n",
      "✅ fragment 359 |️ 0.7641562705606901\n",
      "✅ Data stored to file\n",
      "✅ fragment 360 |️ 0.7830749824243555\n",
      "✅ fragment 361 |️ 0.6440255670359589\n",
      "✅ fragment 362 |️ 0.678085867644908\n",
      "🔁 Retracing for fragment 363 | pointer 1631 |️ 0.5379366213995532\n",
      "✅ fragment 363 |️ 0.6077231056462331\n",
      "🔁 Retracing for fragment 364 | pointer 1633 |️ 0.5619835611629649\n",
      "🔁 Retracing for fragment 364 | pointer 1632 |️ 0.2789371081325648\n",
      "🔁 Retracing for fragment 364 | pointer 1631 |️ 0.5099738555556242\n",
      "🔁 Retracing for fragment 364 | pointer 1630 |️ 0.39213928625655525\n",
      "🔁 Retracing for fragment 364 | pointer 1629 |️ 0.3793502005399939\n",
      "🔁 Retracing for fragment 364 | pointer 1633 |️ 0.5335268256613139\n",
      "✅ fragment 364 |️ 0.6144645969996433\n",
      "✅ fragment 365 |️ 0.7677255630649967\n",
      "✅ fragment 366 |️ 0.8414298831213778\n",
      "✅ fragment 367 |️ 0.8039023793166616\n",
      "✅ fragment 368 |️ 0.7363621507255423\n",
      "✅ fragment 369 |️ 0.7584860412773324\n",
      "✅ Data stored to file\n",
      "✅ fragment 370 |️ 0.8043901801930854\n",
      "✅ fragment 371 |️ 0.6705133279008314\n",
      "🔁 Retracing for fragment 372 | pointer 1669 |️ 0.3236398736905838\n",
      "🔁 Retracing for fragment 372 | pointer 1668 |️ 0.33569948212862344\n",
      "✅ fragment 372 |️ 0.652211751504119\n",
      "✅ fragment 373 |️ 0.8083210718276694\n",
      "✅ fragment 374 |️ 0.7386987582727792\n",
      "✅ fragment 375 |️ 0.7820530997261068\n",
      "✅ fragment 376 |️ 0.7877922313591577\n",
      "✅ fragment 377 |️ 0.7838298600992843\n",
      "✅ fragment 378 |️ 0.6446560119951072\n",
      "✅ fragment 379 |️ 0.6477215454499807\n",
      "✅ Data stored to file\n",
      "✅ fragment 380 |️ 0.8714773244424662\n",
      "✅ fragment 381 |️ 0.7486630600548393\n",
      "✅ fragment 382 |️ 0.816558906349646\n",
      "✅ fragment 383 |️ 0.64863400521566\n",
      "✅ fragment 384 |️ 0.7309363672742427\n",
      "✅ fragment 385 |️ 0.8185678172239806\n",
      "🔁 Retracing for fragment 386 | pointer 1744 |️ 0.45554723210183695\n",
      "🔁 Retracing for fragment 386 | pointer 1743 |️ 0.5497443017798332\n",
      "🔁 Retracing for fragment 386 | pointer 1742 |️ 0.5793409412166184\n",
      "✅ fragment 386 |️ 0.7521867922095277\n",
      "✅ fragment 387 |️ 0.8580654338928716\n",
      "✅ fragment 388 |️ 0.741402367628754\n",
      "✅ fragment 389 |️ 0.7776840115795808\n",
      "✅ Data stored to file\n",
      "✅ fragment 390 |️ 0.8133497033251459\n",
      "✅ fragment 391 |️ 0.6285421073948972\n",
      "✅ fragment 392 |️ 0.8504824911216767\n",
      "✅ fragment 393 |️ 0.6349766587708572\n",
      "✅ fragment 394 |️ 0.6823783339168958\n",
      "✅ fragment 395 |️ 0.8133343832738152\n",
      "✅ fragment 396 |️ 0.7435442723953406\n",
      "✅ fragment 397 |️ 0.7333886992548296\n",
      "✅ fragment 398 |️ 0.8130197715065423\n",
      "✅ fragment 399 |️ 0.907335764974986\n",
      "✅ Data stored to file\n",
      "✅ fragment 400 |️ 0.8142501322736241\n",
      "✅ fragment 401 |️ 0.8681255160422361\n",
      "✅ fragment 402 |️ 0.7869044586013324\n",
      "✅ fragment 403 |️ 0.7687017680103764\n",
      "✅ fragment 404 |️ 0.7527410665791671\n",
      "✅ fragment 405 |️ 0.7381079203263293\n",
      "✅ fragment 406 |️ 0.8701013882521573\n",
      "✅ fragment 407 |️ 0.8016917252260467\n",
      "🔁 Retracing for fragment 408 | pointer 1820 |️ 0.5342321756424201\n",
      "✅ fragment 408 |️ 0.7631721435224902\n",
      "✅ fragment 409 |️ 0.7349241143397852\n",
      "✅ Data stored to file\n",
      "✅ fragment 410 |️ 0.6885698975726056\n",
      "✅ fragment 411 |️ 0.6372855734900525\n",
      "✅ fragment 412 |️ 0.839740297404629\n",
      "✅ fragment 413 |️ 0.7735163616371522\n",
      "✅ fragment 414 |️ 0.6316135504000556\n",
      "✅ fragment 415 |️ 0.8492497543194313\n",
      "✅ fragment 416 |️ 0.7611366192704209\n",
      "✅ fragment 417 |️ 0.8058524509153729\n",
      "✅ fragment 418 |️ 0.7541133362435775\n",
      "✅ fragment 419 |️ 0.7460800629298471\n",
      "✅ Data stored to file\n",
      "✅ fragment 420 |️ 0.607306229570211\n",
      "✅ fragment 421 |️ 0.7675057649665227\n",
      "✅ fragment 422 |️ 0.6356968739633938\n",
      "✅ fragment 423 |️ 0.7611692427286\n",
      "✅ fragment 424 |️ 0.7594193647522663\n",
      "✅ fragment 425 |️ 0.6843241801307514\n",
      "✅ fragment 426 |️ 0.8162964397529952\n",
      "✅ fragment 427 |️ 0.7620635532012587\n",
      "✅ fragment 428 |️ 0.75967082588642\n",
      "✅ fragment 429 |️ 0.7897506819451151\n",
      "✅ Data stored to file\n",
      "✅ fragment 430 |️ 0.7282235963171778\n",
      "✅ fragment 431 |️ 0.767187850501139\n",
      "✅ fragment 432 |️ 0.691742594850174\n",
      "✅ fragment 433 |️ 0.7614888842720573\n",
      "✅ fragment 434 |️ 0.608367604255882\n",
      "✅ fragment 435 |️ 0.7296440773026684\n",
      "✅ fragment 436 |️ 0.7344299312192889\n",
      "✅ fragment 437 |️ 0.7619243931874087\n",
      "✅ fragment 438 |️ 0.7903869036822068\n",
      "✅ fragment 439 |️ 0.7593818285876871\n",
      "🔁 Retracing for fragment 440 | pointer 1948 |️ 0.5832316472607904\n",
      "✅ Data stored to file\n",
      "✅ fragment 440 |️ 0.6706451296206508\n",
      "✅ fragment 441 |️ 0.8118442632009352\n",
      "✅ fragment 442 |️ 0.6847478061820478\n",
      "✅ fragment 443 |️ 0.7033393094758239\n",
      "✅ fragment 444 |️ 0.8102111985626279\n",
      "✅ fragment 445 |️ 0.7325751724760545\n",
      "✅ fragment 446 |️ 0.759338991780667\n",
      "✅ fragment 447 |️ 0.7500110381959391\n",
      "✅ fragment 448 |️ 0.9331712687212922\n",
      "✅ fragment 449 |️ 0.8395351131809584\n",
      "✅ Data stored to file\n",
      "✅ fragment 450 |️ 0.6322998545092605\n",
      "✅ fragment 451 |️ 0.7792414058345902\n",
      "✅ fragment 452 |️ 0.878557193778014\n",
      "✅ fragment 453 |️ 0.7560595722629935\n",
      "✅ fragment 454 |️ 0.8460109399943609\n",
      "✅ fragment 455 |️ 0.8205282602695948\n",
      "✅ fragment 456 |️ 0.8974960437623317\n",
      "✅ fragment 457 |️ 0.7891429001682436\n",
      "✅ fragment 458 |️ 0.816602103214843\n",
      "✅ fragment 459 |️ 0.7958516763066631\n",
      "✅ Data stored to file\n",
      "✅ fragment 460 |️ 0.7315838406950689\n",
      "✅ fragment 461 |️ 0.7122218177629638\n",
      "✅ fragment 462 |️ 0.8449706207646911\n",
      "✅ fragment 463 |️ 0.8003242023540702\n",
      "✅ fragment 464 |️ 0.8202116568054342\n",
      "✅ fragment 465 |️ 0.8030458532953146\n",
      "✅ fragment 466 |️ 0.8615789077823802\n",
      "✅ fragment 467 |️ 0.8857869470032039\n",
      "✅ fragment 468 |️ 0.6845725055441568\n",
      "✅ fragment 469 |️ 0.6862896806511075\n",
      "✅ Data stored to file\n",
      "✅ fragment 470 |️ 0.7452936943939567\n",
      "✅ fragment 471 |️ 0.7552296974460342\n",
      "✅ fragment 472 |️ 0.8524286111414049\n",
      "✅ fragment 473 |️ 0.8261074883826239\n",
      "✅ fragment 474 |️ 0.6704905682554372\n",
      "✅ fragment 475 |️ 0.7003357462260575\n",
      "✅ fragment 476 |️ 0.7457269152665419\n",
      "✅ fragment 477 |️ 0.8775918612971814\n",
      "✅ fragment 478 |️ 0.8728028765430548\n",
      "✅ fragment 479 |️ 0.8168219788316184\n",
      "🔁 Retracing for fragment 480 | pointer 2113 |️ 0.5347775552163886\n",
      "✅ Data stored to file\n",
      "✅ fragment 480 |️ 0.6627895133777293\n",
      "✅ fragment 481 |️ 0.7288561888392839\n",
      "✅ fragment 482 |️ 0.7512126384715213\n",
      "✅ fragment 483 |️ 0.8625831378865667\n",
      "✅ fragment 484 |️ 0.6534277733304666\n",
      "✅ fragment 485 |️ 0.8050476594932071\n",
      "✅ fragment 486 |️ 0.7997171375701988\n",
      "✅ fragment 487 |️ 0.8333579616595836\n",
      "✅ fragment 488 |️ 0.8959106990329838\n",
      "✅ fragment 489 |️ 0.7824226686631053\n",
      "✅ Data stored to file\n",
      "✅ fragment 490 |️ 0.8902809898253876\n",
      "✅ fragment 491 |️ 0.7267704612513038\n",
      "✅ fragment 492 |️ 0.6235271681339594\n",
      "✅ fragment 493 |️ 0.7081588521749816\n",
      "🔁 Retracing for fragment 494 | pointer 2169 |️ 0.5248578117184712\n",
      "🔁 Retracing for fragment 494 | pointer 2168 |️ 0.3966614320674623\n",
      "🔁 Retracing for fragment 494 | pointer 2167 |️ 0.39003263260463755\n",
      "🔁 Retracing for fragment 494 | pointer 2166 |️ 0.4226598153346527\n",
      "🔁 Retracing for fragment 494 | pointer 2165 |️ 0.3774857907667124\n",
      "🔁 Retracing for fragment 494 | pointer 2169 |️ 0.37211044596814563\n",
      "🔁 Retracing for fragment 494 | pointer 2170 |️ 0.5354303544031103\n",
      "✅ fragment 494 |️ 0.6275437713036924\n",
      "✅ fragment 495 |️ 0.8005373969339737\n",
      "✅ fragment 496 |️ 0.8160662225051355\n",
      "✅ fragment 497 |️ 0.6041897042079477\n",
      "🔁 Retracing for fragment 498 | pointer 2190 |️ 0.5389320956168393\n",
      "🔁 Retracing for fragment 498 | pointer 2189 |️ 0.5084619330986417\n",
      "🔁 Retracing for fragment 498 | pointer 2188 |️ 0.5400204593938039\n",
      "🔁 Retracing for fragment 498 | pointer 2187 |️ 0.5256236201975335\n",
      "🔁 Retracing for fragment 498 | pointer 2186 |️ 0.5036388484354208\n",
      "🔁 Retracing for fragment 498 | pointer 2190 |️ 0.47870533572920465\n",
      "🔁 Retracing for fragment 498 | pointer 2191 |️ 0.49089094509784603\n",
      "🔁 Retracing for fragment 498 | pointer 2192 |️ 0.4298679446119285\n",
      "✅ fragment 498 |️ 0.7025109882059809\n",
      "✅ fragment 499 |️ 0.6527660172341934\n",
      "✅ Data stored to file\n",
      "✅ fragment 500 |️ 0.7752714523085547\n",
      "✅ fragment 501 |️ 0.6573915057360316\n",
      "🔁 Retracing for fragment 502 | pointer 2217 |️ 0.4915228265676024\n",
      "🔁 Retracing for fragment 502 | pointer 2216 |️ 0.5202039395470613\n",
      "🔁 Retracing for fragment 502 | pointer 2215 |️ 0.37073679877418775\n",
      "🔁 Retracing for fragment 502 | pointer 2214 |️ 0.4691156622877121\n",
      "🔁 Retracing for fragment 502 | pointer 2213 |️ 0.45122900589217596\n",
      "🔁 Retracing for fragment 502 | pointer 2217 |️ 0.46005007128959685\n",
      "🔁 Retracing for fragment 502 | pointer 2218 |️ 0.4797482706169073\n",
      "🔁 Retracing for fragment 502 | pointer 2219 |️ 0.3343752471229894\n",
      "✅ fragment 502 |️ 0.7616284061114489\n",
      "✅ fragment 503 |️ 0.7380047256970069\n",
      "✅ fragment 504 |️ 0.6972647755994146\n",
      "✅ fragment 505 |️ 0.8098767827237426\n",
      "✅ fragment 506 |️ 0.7215244434776599\n",
      "✅ fragment 507 |️ 0.7245168082384367\n",
      "✅ fragment 508 |️ 0.6766802799108679\n",
      "✅ fragment 509 |️ 0.8756337016639142\n",
      "✅ Data stored to file\n",
      "✅ fragment 510 |️ 0.7354338975504604\n",
      "✅ fragment 511 |️ 0.8130255660164776\n",
      "✅ fragment 512 |️ 0.8665495630443741\n",
      "🔁 Retracing for fragment 513 | pointer 2266 |️ 0.2269403857835536\n",
      "✅ fragment 513 |️ 0.6372950560865752\n",
      "✅ fragment 514 |️ 0.821368804158154\n",
      "✅ fragment 515 |️ 0.6568526007450813\n",
      "✅ fragment 516 |️ 0.7605198536403621\n",
      "✅ fragment 517 |️ 0.8045859382325564\n",
      "✅ fragment 518 |️ 0.8412372155734429\n",
      "✅ fragment 519 |️ 0.7941246886571185\n",
      "✅ Data stored to file\n",
      "✅ fragment 520 |️ 0.8044145087823598\n",
      "✅ fragment 521 |️ 0.8002934859103127\n",
      "✅ fragment 522 |️ 0.8085310890688263\n",
      "✅ fragment 523 |️ 0.7793703713308325\n",
      "✅ fragment 524 |️ 0.6804340862450012\n",
      "✅ fragment 525 |️ 0.6339353783081473\n",
      "✅ fragment 526 |️ 0.7245954884625867\n",
      "🔁 Retracing for fragment 527 | pointer 2335 |️ 0.4970636506214328\n",
      "✅ fragment 527 |️ 0.7063963492742007\n",
      "✅ fragment 528 |️ 0.7599022227488865\n",
      "✅ fragment 529 |️ 0.7508051702762941\n",
      "✅ Data stored to file\n",
      "✅ fragment 530 |️ 0.8340068600189957\n",
      "✅ fragment 531 |️ 0.8642255702276305\n",
      "✅ fragment 532 |️ 0.8687841094621171\n",
      "✅ fragment 533 |️ 0.6987543651741499\n",
      "✅ fragment 534 |️ 0.7248056405046889\n",
      "🔁 Retracing for fragment 535 | pointer 2369 |️ 0.3041553853484598\n",
      "🔁 Retracing for fragment 535 | pointer 2368 |️ 0.23822750646104673\n",
      "🔁 Retracing for fragment 535 | pointer 2367 |️ 0.32627052260630784\n",
      "🔁 Retracing for fragment 535 | pointer 2366 |️ 0.44771901854189944\n",
      "🔁 Retracing for fragment 535 | pointer 2365 |️ 0.4489525162160097\n",
      "🔁 Retracing for fragment 535 | pointer 2369 |️ 0.472028983299558\n",
      "🔁 Retracing for fragment 535 | pointer 2370 |️ 0.3489470075128586\n",
      "✅ fragment 535 |️ 0.683912896374895\n",
      "✅ fragment 536 |️ 0.8583353766762968\n",
      "✅ fragment 537 |️ 0.8312450271160643\n",
      "✅ fragment 538 |️ 0.8680762850578347\n",
      "✅ fragment 539 |️ 0.7361202637809221\n",
      "✅ Data stored to file\n",
      "✅ fragment 540 |️ 0.7992898883467389\n",
      "✅ fragment 541 |️ 0.7402029840785523\n",
      "✅ fragment 542 |️ 0.8863069759927361\n",
      "✅ fragment 543 |️ 0.8103289197297361\n",
      "✅ fragment 544 |️ 0.8032300230200853\n",
      "✅ fragment 545 |️ 0.6566116348500202\n",
      "✅ fragment 546 |️ 0.6931458578965279\n",
      "✅ fragment 547 |️ 0.8147201162495759\n",
      "✅ fragment 548 |️ 0.8161957816720832\n",
      "🔁 Retracing for fragment 549 | pointer 2424 |️ 0.5808330042646017\n",
      "🔁 Retracing for fragment 549 | pointer 2423 |️ 0.4790345102969749\n",
      "🔁 Retracing for fragment 549 | pointer 2422 |️ 0.32038318612357225\n",
      "🔁 Retracing for fragment 549 | pointer 2421 |️ 0.3753699412105008\n",
      "🔁 Retracing for fragment 549 | pointer 2420 |️ 0.54126740302671\n",
      "🔁 Retracing for fragment 549 | pointer 2424 |️ 0.47810886040302086\n",
      "🔁 Retracing for fragment 549 | pointer 2425 |️ 0.5561305974653208\n",
      "🔁 Retracing for fragment 549 | pointer 2426 |️ 0.5277939440886257\n",
      "🔁 Retracing for fragment 549 | pointer 2427 |️ 0.3182028097297862\n",
      "🔁 Retracing for fragment 549 | pointer 2428 |️ 0.3005684908928113\n"
     ]
    }
   ],
   "source": [
    "pointer = await start_from(951, 222)"
   ]
  },
  {
   "cell_type": "code",
   "execution_count": 271,
   "id": "5eaa807c-85dd-4518-981e-ffc26c62f780",
   "metadata": {},
   "outputs": [
    {
     "data": {
      "text/plain": [
       "(2919, 4)"
      ]
     },
     "execution_count": 271,
     "metadata": {},
     "output_type": "execute_result"
    }
   ],
   "source": [
    "rus_df.shape"
   ]
  },
  {
   "cell_type": "code",
   "execution_count": null,
   "id": "80192238-f3ee-47a3-a93c-8dc32157a3ab",
   "metadata": {},
   "outputs": [],
   "source": []
  }
 ],
 "metadata": {
  "kernelspec": {
   "display_name": "Python 3 (ipykernel)",
   "language": "python",
   "name": "python3"
  },
  "language_info": {
   "codemirror_mode": {
    "name": "ipython",
    "version": 3
   },
   "file_extension": ".py",
   "mimetype": "text/x-python",
   "name": "python",
   "nbconvert_exporter": "python",
   "pygments_lexer": "ipython3",
   "version": "3.11.8"
  }
 },
 "nbformat": 4,
 "nbformat_minor": 5
}
